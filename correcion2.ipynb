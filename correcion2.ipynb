{
 "cells": [
  {
   "cell_type": "code",
   "execution_count": 1,
   "id": "99a8e5f0",
   "metadata": {
    "title": "CORRECCIONES APLICADAS AL TP1 DE MINERÍA DE DATOS"
   },
   "outputs": [],
   "source": [
    "# =======================================================\n",
    "# Este script incluye las correcciones sugeridas al trabajo original\n",
    "\n",
    "import pandas as pd\n",
    "import numpy as np\n",
    "import seaborn as sns\n",
    "import matplotlib.pyplot as plt\n",
    "from sklearn.preprocessing import StandardScaler\n",
    "from sklearn.manifold import MDS, Isomap, TSNE\n",
    "from sklearn.decomposition import PCA\n",
    "from sklearn.cluster import KMeans, AgglomerativeClustering\n",
    "from sklearn.metrics import (silhouette_score, silhouette_samples, \n",
    "                             davies_bouldin_score, calinski_harabasz_score)\n",
    "from scipy.cluster.hierarchy import dendrogram, linkage\n",
    "from scipy.spatial.distance import cdist\n",
    "import plotly.express as px"
   ]
  },
  {
   "cell_type": "code",
   "execution_count": 2,
   "id": "02b52742",
   "metadata": {
    "title": "CARGA Y EXPLORACIÓN INICIAL"
   },
   "outputs": [
    {
     "name": "stdout",
     "output_type": "stream",
     "text": [
      "Forma del dataset: (311, 14)\n",
      "Duplicados: 0\n"
     ]
    }
   ],
   "source": [
    "df = pd.read_csv('SmartFarmingCropYield.csv')\n",
    "df.columns = df.columns.str.strip()\n",
    "\n",
    "print(f\"Forma del dataset: {df.shape}\")\n",
    "print(f\"Duplicados: {df.duplicated().sum()}\")"
   ]
  },
  {
   "cell_type": "code",
   "execution_count": 3,
   "id": "dfef435b",
   "metadata": {
    "title": "CORRECCIÓN 1: TRATAMIENTO MEJORADO DE VALORES FALTANTES"
   },
   "outputs": [
    {
     "name": "stdout",
     "output_type": "stream",
     "text": [
      "\n",
      "=== ANÁLISIS DE VALORES FALTANTES EN tipoRiego ===\n",
      "Valores faltantes: 91 (29.26%)\n",
      "\n",
      "Distribución de tipoRiego:\n",
      "tipoRiego\n",
      "Aspersor    77\n",
      "Manual      74\n",
      "Goteo       69\n",
      "Name: count, dtype: int64\n",
      "\n",
      "Moda de tipoRiego: Aspersor\n",
      "\n",
      "USAREMOS LA OPCIÓN A (imputación con moda) por ser más conservadora\n"
     ]
    }
   ],
   "source": [
    "# ==========================================================\n",
    "\n",
    "# Para estadoEnfermedadesCultivo: mantener \"Saludable\" es razonable\n",
    "df['estadoEnfermedadesCultivo'] = df['estadoEnfermedadesCultivo'].replace('Moderate', 'Moderado')\n",
    "df['estadoEnfermedadesCultivo'] = df['estadoEnfermedadesCultivo'].fillna('Saludable')\n",
    "\n",
    "# Para tipoRiego: evaluar si usar moda o crear categoría \"Desconocido\"\n",
    "print(\"\\n=== ANÁLISIS DE VALORES FALTANTES EN tipoRiego ===\")\n",
    "print(f\"Valores faltantes: {df['tipoRiego'].isnull().sum()} ({df['tipoRiego'].isnull().sum()/len(df)*100:.2f}%)\")\n",
    "print(f\"\\nDistribución de tipoRiego:\")\n",
    "print(df['tipoRiego'].value_counts())\n",
    "\n",
    "# OPCIÓN A: Imputar con la moda (más conservador)\n",
    "moda_riego = df['tipoRiego'].mode()[0]\n",
    "df['tipoRiego_imputado'] = df['tipoRiego'].fillna(moda_riego)\n",
    "\n",
    "# OPCIÓN B: Crear categoría \"Desconocido\" (tu enfoque original)\n",
    "df['tipoRiego_desconocido'] = df['tipoRiego'].fillna('Desconocido')\n",
    "\n",
    "print(f\"\\nModa de tipoRiego: {moda_riego}\")\n",
    "print(\"\\nUSAREMOS LA OPCIÓN A (imputación con moda) por ser más conservadora\")\n",
    "\n",
    "# Usamos la versión imputada\n",
    "df['tipoRiego'] = df['tipoRiego_imputado']\n",
    "df = df.drop(columns=['tipoRiego_imputado', 'tipoRiego_desconocido'])"
   ]
  },
  {
   "cell_type": "code",
   "execution_count": 4,
   "id": "6bfe810e",
   "metadata": {
    "title": "CORRECCIÓN 2: ENCODING CON n-1 DUMMIES"
   },
   "outputs": [
    {
     "name": "stdout",
     "output_type": "stream",
     "text": [
      "\n",
      "=== CREACIÓN DE VARIABLES DUMMY (n-1) ===\n",
      "Variables dummy creadas (usando n-1 para evitar multicolinealidad)\n",
      "Forma del dataset después de encoding: (311, 18)\n"
     ]
    }
   ],
   "source": [
    "# ==========================================\n",
    "print(\"\\n=== CREACIÓN DE VARIABLES DUMMY (n-1) ===\")\n",
    "\n",
    "# Para tipoRiego (3 categorías -> 2 dummies)\n",
    "df['riego_goteo'] = (df['tipoRiego'] == 'Goteo').astype(int)\n",
    "df['riego_aspersor'] = (df['tipoRiego'] == 'Aspersor').astype(int)\n",
    "# Manual queda como categoría de referencia (0,0)\n",
    "\n",
    "# Para tipoFertilizante (3 categorías -> 2 dummies)\n",
    "df['fertilizante_mixto'] = (df['tipoFertilizante'] == 'Mixto').astype(int)\n",
    "df['fertilizante_organico'] = (df['tipoFertilizante'] == 'Organico').astype(int)\n",
    "# Sintético queda como categoría de referencia\n",
    "\n",
    "# Para estadoEnfermedadesCultivo (4 categorías -> 3 dummies)\n",
    "df['enfermedad_moderada'] = (df['estadoEnfermedadesCultivo'] == 'Moderado').astype(int)\n",
    "df['enfermedad_severa'] = (df['estadoEnfermedadesCultivo'] == 'Severo').astype(int)\n",
    "df['enfermedad_leve'] = (df['estadoEnfermedadesCultivo'] == 'Leve').astype(int)\n",
    "# Saludable queda como categoría de referencia\n",
    "\n",
    "# Eliminar columnas categóricas originales\n",
    "df = df.drop(columns=['tipoRiego', 'tipoFertilizante', 'estadoEnfermedadesCultivo'])\n",
    "\n",
    "print(\"Variables dummy creadas (usando n-1 para evitar multicolinealidad)\")\n",
    "print(f\"Forma del dataset después de encoding: {df.shape}\")"
   ]
  },
  {
   "cell_type": "code",
   "execution_count": 5,
   "id": "e62a4cb5",
   "metadata": {
    "title": "CORRECCIÓN 3: ESTANDARIZACIÓN SOLO DE VARIABLES NUMÉRICAS"
   },
   "outputs": [
    {
     "name": "stdout",
     "output_type": "stream",
     "text": [
      "\n",
      "=== ESTANDARIZACIÓN CORRECTA ===\n",
      "✓ Variables numéricas estandarizadas\n",
      "✓ Variables dummy mantenidas en escala binaria (0-1)\n"
     ]
    }
   ],
   "source": [
    "# ============================================================\n",
    "print(\"\\n=== ESTANDARIZACIÓN CORRECTA ===\")\n",
    "\n",
    "# Separar variables numéricas continuas de las dummy (binarias)\n",
    "variables_numericas = [\"humedadSuelo(%)\", \"pHSuelo\", \"mlPesticida\", \"horasLuzSolar\", \n",
    "                       \"humedad(%)\", \"precipitacion(mm)\", \"diasTotales\", \n",
    "                       \"temperatura(°C)\", \"rendimientoKg_hectarea\", \"indiceNDVI\"]\n",
    "\n",
    "variables_dummy = ['riego_goteo', 'riego_aspersor', 'fertilizante_mixto', \n",
    "                   'fertilizante_organico', 'enfermedad_moderada', \n",
    "                   'enfermedad_severa', 'enfermedad_leve']\n",
    "\n",
    "# Guardar tipoCultivo (variable target)\n",
    "y = df['tipoCultivo']\n",
    "\n",
    "# Estandarizar SOLO variables numéricas continuas\n",
    "scaler = StandardScaler()\n",
    "df_scaled = df.copy()\n",
    "df_scaled[variables_numericas] = scaler.fit_transform(df[variables_numericas])\n",
    "\n",
    "# Las variables dummy NO se estandarizan (ya están en escala 0-1)\n",
    "print(\"✓ Variables numéricas estandarizadas\")\n",
    "print(\"✓ Variables dummy mantenidas en escala binaria (0-1)\")\n",
    "\n",
    "# Crear matriz X sin la variable target\n",
    "X = df_scaled.drop(columns=['tipoCultivo'])"
   ]
  },
  {
   "cell_type": "code",
   "execution_count": 6,
   "id": "366f127b",
   "metadata": {
    "title": "ANÁLISIS DE CORRELACIONES MEJORADO"
   },
   "outputs": [
    {
     "name": "stdout",
     "output_type": "stream",
     "text": [
      "\n",
      "=== ANÁLISIS DE CORRELACIONES ===\n",
      "\n",
      "Correlaciones más fuertes entre variables numéricas:\n",
      "                 var1                    var2  correlacion\n",
      "9             pHSuelo             mlPesticida     0.204513\n",
      "38  precipitacion(mm)              indiceNDVI     0.149449\n",
      "16            pHSuelo              indiceNDVI     0.111789\n",
      "21        mlPesticida         temperatura(°C)     0.082584\n",
      "18        mlPesticida              humedad(%)     0.081470\n",
      "22        mlPesticida  rendimientoKg_hectarea     0.079110\n",
      "26      horasLuzSolar             diasTotales     0.075764\n",
      "33         humedad(%)  rendimientoKg_hectarea     0.073744\n",
      "42    temperatura(°C)  rendimientoKg_hectarea     0.070540\n",
      "41        diasTotales              indiceNDVI     0.067793\n"
     ]
    },
    {
     "data": {
      "image/png": "[encoded data removed]",
      "text/plain": [
       "<Figure size 1400x1000 with 2 Axes>"
      ]
     },
     "metadata": {},
     "output_type": "display_data"
    }
   ],
   "source": [
    "# =====================================\n",
    "print(\"\\n=== ANÁLISIS DE CORRELACIONES ===\")\n",
    "\n",
    "# Correlación entre variables numéricas\n",
    "corr_numericas = df_scaled[variables_numericas].corr()\n",
    "print(\"\\nCorrelaciones más fuertes entre variables numéricas:\")\n",
    "corr_pairs = []\n",
    "for i in range(len(corr_numericas.columns)):\n",
    "    for j in range(i+1, len(corr_numericas.columns)):\n",
    "        corr_pairs.append({\n",
    "            'var1': corr_numericas.columns[i],\n",
    "            'var2': corr_numericas.columns[j],\n",
    "            'correlacion': abs(corr_numericas.iloc[i, j])\n",
    "        })\n",
    "corr_df = pd.DataFrame(corr_pairs).sort_values('correlacion', ascending=False)\n",
    "print(corr_df.head(10))\n",
    "\n",
    "plt.figure(figsize=(14, 10))\n",
    "sns.heatmap(corr_numericas, annot=True, fmt=\".2f\", cmap=\"coolwarm\", \n",
    "            center=0, vmin=-1, vmax=1, square=True)\n",
    "plt.title(\"Matriz de Correlación - Variables Numéricas\")\n",
    "plt.tight_layout()\n",
    "plt.show()"
   ]
  },
  {
   "cell_type": "code",
   "execution_count": 7,
   "id": "7ac80fcd",
   "metadata": {
    "title": "CORRECCIÓN 4: PCA CON ANÁLISIS DETALLADO"
   },
   "outputs": [
    {
     "name": "stdout",
     "output_type": "stream",
     "text": [
      "\n",
      "=== ANÁLISIS PCA MEJORADO ===\n",
      "80% varianza explicada con 9 componentes\n",
      "85% varianza explicada con 10 componentes\n",
      "90% varianza explicada con 11 componentes\n",
      "95% varianza explicada con 13 componentes\n"
     ]
    },
    {
     "data": {
      "image/png": "[encoded data removed]",
      "text/plain": [
       "<Figure size 1600x600 with 2 Axes>"
      ]
     },
     "metadata": {},
     "output_type": "display_data"
    },
    {
     "name": "stdout",
     "output_type": "stream",
     "text": [
      "\n",
      "Criterio de Kaiser: 5 componentes\n"
     ]
    }
   ],
   "source": [
    "# ===========================================\n",
    "print(\"\\n=== ANÁLISIS PCA MEJORADO ===\")\n",
    "\n",
    "pca_full = PCA()\n",
    "pca_full.fit(X)\n",
    "\n",
    "# Determinar número óptimo de componentes\n",
    "variance_ratio = pca_full.explained_variance_ratio_\n",
    "cumulative_variance = np.cumsum(variance_ratio)\n",
    "\n",
    "# Encontrar cuántas componentes explican 80%, 85%, 90%, 95%\n",
    "for threshold in [0.80, 0.85, 0.90, 0.95]:\n",
    "    n_comp = np.argmax(cumulative_variance >= threshold) + 1\n",
    "    print(f\"{threshold*100:.0f}% varianza explicada con {n_comp} componentes\")\n",
    "\n",
    "# Visualización de varianza explicada\n",
    "fig, axes = plt.subplots(1, 2, figsize=(16, 6))\n",
    "\n",
    "# Scree plot\n",
    "axes[0].bar(range(1, len(variance_ratio)+1), variance_ratio, alpha=0.7)\n",
    "axes[0].plot(range(1, len(variance_ratio)+1), cumulative_variance, 'r-o', linewidth=2)\n",
    "axes[0].axhline(y=0.80, color='g', linestyle='--', label='80% varianza')\n",
    "axes[0].axhline(y=0.90, color='b', linestyle='--', label='90% varianza')\n",
    "axes[0].set_xlabel('Componente Principal')\n",
    "axes[0].set_ylabel('Proporción de Varianza Explicada')\n",
    "axes[0].set_title('Scree Plot y Varianza Acumulada')\n",
    "axes[0].legend()\n",
    "axes[0].grid(alpha=0.3)\n",
    "\n",
    "# Criterio de Kaiser (eigenvalues > 1)\n",
    "eigenvalues = pca_full.explained_variance_\n",
    "axes[1].bar(range(1, len(eigenvalues)+1), eigenvalues, alpha=0.7)\n",
    "axes[1].axhline(y=1, color='r', linestyle='--', label='Criterio de Kaiser')\n",
    "axes[1].set_xlabel('Componente Principal')\n",
    "axes[1].set_ylabel('Eigenvalue')\n",
    "axes[1].set_title('Criterio de Kaiser')\n",
    "axes[1].legend()\n",
    "axes[1].grid(alpha=0.3)\n",
    "\n",
    "plt.tight_layout()\n",
    "plt.show()\n",
    "\n",
    "kaiser_components = np.sum(eigenvalues > 1)\n",
    "print(f\"\\nCriterio de Kaiser: {kaiser_components} componentes\")"
   ]
  },
  {
   "cell_type": "code",
   "execution_count": 8,
   "id": "3a173b17",
   "metadata": {
    "title": "ANÁLISIS DE LOADINGS (INTERPRETACIÓN DE COMPONENTES)"
   },
   "outputs": [
    {
     "name": "stdout",
     "output_type": "stream",
     "text": [
      "\n",
      "=== ANÁLISIS DE LOADINGS ===\n",
      "\n",
      "LOADINGS de las primeras 4 componentes principales:\n",
      "                          PC1    PC2    PC3    PC4\n",
      "humedadSuelo(%)        -0.046  0.262  0.018 -0.171\n",
      "pHSuelo                -0.521 -0.169  0.186  0.446\n",
      "temperatura(°C)         0.294  0.100 -0.245  0.434\n",
      "precipitacion(mm)      -0.122  0.598 -0.339  0.064\n",
      "humedad(%)              0.191  0.150  0.571  0.142\n",
      "horasLuzSolar          -0.059  0.222  0.429 -0.337\n",
      "mlPesticida             0.585  0.316 -0.060  0.019\n",
      "diasTotales             0.153 -0.403 -0.368  0.120\n",
      "rendimientoKg_hectarea  0.298 -0.059  0.355  0.536\n",
      "indiceNDVI             -0.356  0.435 -0.091  0.376\n",
      "riego_goteo             0.007  0.028  0.003  0.007\n",
      "riego_aspersor         -0.039 -0.039  0.027 -0.036\n",
      "fertilizante_mixto     -0.033  0.004  0.006  0.000\n",
      "fertilizante_organico   0.002 -0.000  0.008  0.006\n",
      "enfermedad_moderada     0.019 -0.046 -0.054 -0.014\n",
      "enfermedad_severa      -0.007  0.033  0.023 -0.006\n",
      "enfermedad_leve         0.008  0.037  0.042  0.028\n"
     ]
    },
    {
     "data": {
      "image/png": "[encoded data removed]",
      "text/plain": [
       "<Figure size 1600x1200 with 4 Axes>"
      ]
     },
     "metadata": {},
     "output_type": "display_data"
    },
    {
     "name": "stdout",
     "output_type": "stream",
     "text": [
      "\n",
      "=== INTERPRETACIÓN DE COMPONENTES PRINCIPALES ===\n",
      "\n",
      "PC1 (11.4% varianza):\n",
      "Variables más influyentes:\n",
      "  + mlPesticida: 0.585\n",
      "  - pHSuelo: 0.521\n",
      "  - indiceNDVI: 0.356\n",
      "\n",
      "PC2 (10.6% varianza):\n",
      "Variables más influyentes:\n",
      "  + precipitacion(mm): 0.598\n",
      "  + indiceNDVI: 0.435\n",
      "  - diasTotales: 0.403\n",
      "\n",
      "PC3 (9.8% varianza):\n",
      "Variables más influyentes:\n",
      "  + humedad(%): 0.571\n",
      "  + horasLuzSolar: 0.429\n",
      "  - diasTotales: 0.368\n",
      "\n",
      "PC4 (9.6% varianza):\n",
      "Variables más influyentes:\n",
      "  + rendimientoKg_hectarea: 0.536\n",
      "  + pHSuelo: 0.446\n",
      "  + temperatura(°C): 0.434\n"
     ]
    }
   ],
   "source": [
    "# =======================================================\n",
    "print(\"\\n=== ANÁLISIS DE LOADINGS ===\")\n",
    "\n",
    "# Usar 8 componentes (según tu análisis original)\n",
    "n_components_selected = 8\n",
    "pca = PCA(n_components=n_components_selected)\n",
    "X_pca = pca.fit_transform(X)\n",
    "\n",
    "# Crear DataFrame de loadings\n",
    "loadings = pd.DataFrame(\n",
    "    pca.components_.T,\n",
    "    columns=[f'PC{i+1}' for i in range(n_components_selected)],\n",
    "    index=X.columns\n",
    ")\n",
    "\n",
    "print(\"\\nLOADINGS de las primeras 4 componentes principales:\")\n",
    "print(loadings[['PC1', 'PC2', 'PC3', 'PC4']].round(3))\n",
    "\n",
    "# Visualizar loadings\n",
    "fig, axes = plt.subplots(2, 2, figsize=(16, 12))\n",
    "for i, ax in enumerate(axes.flat):\n",
    "    pc = f'PC{i+1}'\n",
    "    loadings_sorted = loadings[pc].abs().sort_values(ascending=False)\n",
    "    colors = ['red' if x < 0 else 'blue' for x in loadings[pc][loadings_sorted.index]]\n",
    "    ax.barh(range(len(loadings_sorted)), loadings[pc][loadings_sorted.index], color=colors)\n",
    "    ax.set_yticks(range(len(loadings_sorted)))\n",
    "    ax.set_yticklabels(loadings_sorted.index, fontsize=8)\n",
    "    ax.set_xlabel('Loading')\n",
    "    ax.set_title(f'{pc} - {pca.explained_variance_ratio_[i]*100:.1f}% varianza')\n",
    "    ax.axvline(x=0, color='black', linewidth=0.8)\n",
    "    ax.grid(alpha=0.3)\n",
    "\n",
    "plt.tight_layout()\n",
    "plt.show()\n",
    "\n",
    "# Interpretación de las primeras componentes\n",
    "print(\"\\n=== INTERPRETACIÓN DE COMPONENTES PRINCIPALES ===\")\n",
    "for i in range(min(4, n_components_selected)):\n",
    "    pc = f'PC{i+1}'\n",
    "    top_features = loadings[pc].abs().sort_values(ascending=False).head(3)\n",
    "    print(f\"\\n{pc} ({pca.explained_variance_ratio_[i]*100:.1f}% varianza):\")\n",
    "    print(\"Variables más influyentes:\")\n",
    "    for feat, val in top_features.items():\n",
    "        direction = \"+\" if loadings.loc[feat, pc] > 0 else \"-\"\n",
    "        print(f\"  {direction} {feat}: {abs(val):.3f}\")"
   ]
  },
  {
   "cell_type": "code",
   "execution_count": 9,
   "id": "f3543e4b",
   "metadata": {
    "title": "VISUALIZACIÓN PCA"
   },
   "outputs": [
    {
     "data": {
      "application/vnd.plotly.v1+json": {
       "config": {
        "plotlyServerURL": "https://plot.ly"
       },
       "data": [
        {
         "hovertemplate": "Tipo de Cultivo=Trigo<br>PC1=%{x}<br>PC2=%{y}<extra></extra>",
         "legendgroup": "Trigo",
         "marker": {
          "color": "#636efa",
          "symbol": "circle"
         },
         "mode": "markers",
         "name": "Trigo",
         "orientation": "v",
         "showlegend": true,
         "type": "scatter",
         "x": {
          "bdata": "UjMaUwTk3b+9jmkM7c33vzpWUzpYZ7w/OVl0Ysf80780FIT+kM/Qv6z3Oo2bEvA/7DMNROFtpj/OpPRgWG32Pz7maJN1Vu+/xFXiD2umob/lw8pocELzv6L55bPfldU/0ZbDxutt6L94Z4HV+Y8CQPkGJNETuue/OsDamZv4tT8ugilHJR78vwC5BuEJNfe/BbE78AXR+T+6oYgDMyXxP2sG23J+IOY/7dKOG0yH8r9eTDWQJH3UP8dCqL/mzZG/4nmn7jpmv79/RLewPmX2v7IbxBEzAu4/HFG+lsm+5b/dWp33qszOP1GarsnObtu/0EXVU03Prr9+2khudKDjv4kPq//T0dw/QaEDvYLJ3j+IIYxz8970v8IZVfY5w+K/YPWgTSstB0B+lYQXTwXov4CtM/Ei8Pw/0VqNv3Cu7r/2Kr/tE43Lv1s2W2jypwdA9qHc749CyL9/yPB++Grnv/FE2dcmavo/+BgrdiBKuD/O9ZlSlg3yv7ohgZIis7a/Dtj1+eHW178fqjieXHoFQGMDybcpWOW/Ww+xDA+p4L+3pWW3lBv4v0gRDisAbKq/RpPdJnbK5b98wL4EQJLkP8sEgu0aBOU/E5alqMHC1L//kzP6Dxr+v2RnB5vIANs/wtP5r3/R5b+Fs1TXBULjv2TJMrFktvi/x0JD/xo05z+hKNTPcpbxP3J2ZQeI17M/UvVrgLUo4b/UlhwoXJ7wv1DNbCUpKmU/VaSzLySTuj8Np9fLcwHgvw5+d9Dgguq/8kKfb7p95L9iT04fTWTFv8maizzMSOE/Ww2eWOeE9z+vrYBmU0zRv7YMD1zt6MG/zi8+DABbjL8CEx2KDfajvwvLnc/MCua/BsKLPDEt/z8WtD93kUbmP7PlLcRMc8y/uo07Tbi1wb/zqfkTXtLwP5KAfi0A+O8/DpeOqtag8D+t2PlDJ07vP17lwyQAmKU/lt+GETEn9r88oC804ejlvw==",
          "dtype": "f8"
         },
         "xaxis": "x",
         "y": {
          "bdata": "ULv2gd6q7L9aLVepH9XiP7TKo9gj1+2/iT2uny0GCcDRZlwV4Sf0P9xx+l04tOw/pNJ/iDJf779MM01o0c/Hv2cU2y3mobE/QAMTbU3a/z9u+KpRGteyP8m3AbNL1uG/5FHCzJlb678wIIkUM/bavwXrws+duPq/9bk9oxeC9L8LR6RCJgjcv56gDqUFftK/yGA7UrA+ur/ZMxkPuYfaP+JSN/u7JeE/AAfxyTGP+T83LWDHyPPov21uTfw+q+C/BsVKvl2EzL+jCGbbbgHhPzcJqZvObdA/ncUmHmX38j/rIecorqHMP+M4kXXx5wLAR2YW8RD7A8At5ET6AX/pv2BRS31NevU/IujKZwmp7L9EAA6xNmPKv4BR/reDefq/tVqOGjhD6b/XzDj2AxrSv/1PokHh9eA/kLXWqtl54z88npAT97K5v4GZkdvECtW/Shnv1rBO8D9xw3BRks31v3CmchkwyPa/obJtLGm/AcALOtpUkYDwP0FH0Zo1KOM/FULAiX8H6j8mwC3BI+jrP5S93TifT8I/TT9KuNjx3b+Kq0rXaubkP13hfaDJQOo/Lv6s+aDF6j8x7VHOrcXgP0CdbLZCJbI/GE2jLeNO8T/YSKPv+726vyLk3PSBee0/w77ZjR3c0j8txmWv9jD6v12Pz8fZXOG/AKtTSnll6r9ogaURdZ3YP+gKJbRvZOu/OLCjHdl4tD+xuymllR8KwBu5zOI/wOk/VTb7YTpe9L/2hihCBHsEQGCVcy3LbEW/j9hmebW2mr+8G9ZfiWHxP1fuHvLBdfI/EZl+ufzc8r8NZa+rIQvXP6qfjOROTv6/dKd3QnHPA8Bzop+0gW/8v9ZaWpZygeq/UF7lO4odw79uG2cOkjH3P2Xw85HkWPg/UbdSgmTe9j9lbyWBVzCRv6fcntZBZdy/K7NgKbuQ1L8LGjXK8Djav3k/LeG9vuO/VAJuksE6tj96h4fqXnvxvw==",
          "dtype": "f8"
         },
         "yaxis": "y"
        },
        {
         "hovertemplate": "Tipo de Cultivo=Soja<br>PC1=%{x}<br>PC2=%{y}<extra></extra>",
         "legendgroup": "Soja",
         "marker": {
          "color": "#EF553B",
          "symbol": "circle"
         },
         "mode": "markers",
         "name": "Soja",
         "orientation": "v",
         "showlegend": true,
         "type": "scatter",
         "x": {
          "bdata": "HQxEEWpr4r/oHi23aJe8v0eOqVbzAPo/QBRReZCE9D8nfolPHBPrP6wPKcVgk+m/ZFZ2XAXplj+EJ8KND8vcPwz47DthRwJAA/UZpqaN1j/gPbUnfs7kPyDQqJduXv4/aDfb2mA19T/3AgDIOPb0PwOrYFKL8+g//3uZzXYs5j/9R2Wn0c3GP/J9qmDw/uc/XzIhIQsD879tpB4GROqxP/VHuTgIWuI/uZ5K8OBX7b83wjzFJqkBQCdqUEFCjvG/Lj1NgP95+L8pa4IVqkzqv4EVxXu5afQ/2KyFpQ386z9W4zq79Xeyv6ajac0aX/m/11emBE4C7z/2Qs6I4UDuP60BK3NxDvG/nzSzSe8RxD92GFIiHR/gv1w7vlXZ/ta/LBE+QN/wAMBuQ4ZxdsG7PwFC+Z75FPE/87rVVD0G8b9R9PgKmT/1v/xNko/Tpuy/fcwFdRMLAsD7RIPS6ejFP479dlP9xfg/siYMA2Fg8z+K1OIB8djPPxW5GsGer+i/6WlJ8wbHjT+jbOFIqTTLvz34AQsC1MG/fwJNWGWe4D/s7YlCy0nJv2MOa/x46AJArSMFiFzK4b/Kzrr2wavkP7k+LNrBHOe/ILW6Rayj4T8cxKl8tRX0P4PJmTQvYuU/ChJ/cJ5i5T/c4Pqtn1fiv20m+KkijPI/84FdY11d5D9ASDDKhPKqP6yB6e7td6S/jdTCMytB+7/y+bE8Uj/0P495iACNEfs/xYQJHn6v+7+0Zzgt1k8AQP01yEjTcue/GCArZlqa2L8ErIXHfqDzP40dII6dvP+/VL2tHTqt5b8n03/slejIv1ia87NcgvM/ZUr4LJr/5b/VsYC3C5bbv627o9fiZfK/PHP7hvsCtT9++tDTJJjwvxYX9w+4vfU/Hm+D89Q0gD8foUqUjUz+P+iq4mjCIq6/D6xuJ2cGxr9n0U5Sbr38v3F/PnRbAf4/C5p+NM2V6j9zaX4D5SLpv+SYkG2A7tQ/oxzfEY1R5b9djigJDWzVv1vSNCoj0Py/ltNwvB829T9W+WP/w+fDPww2t8OZdsk/BGsVbJvosD+JyesdiYHyvwv4ndRz8/k/rhoAIVhc+b9piC+0gczRv5mNbDzcBQPAIVZqY8DoAcABV5b19nYFwDbLv8/rksW/",
          "dtype": "f8"
         },
         "xaxis": "x",
         "y": {
          "bdata": "ys8NywJW+b+qvMynCjftv3d56WzRheE/ltpGUNDM4r/zMPBXot/2v37vpnD4cOa/T6Fxq0mz+L9Q9Q8PetzrP3Zd4hvV+fM/Vc0BzRhS9r8lTYRnM0bFv9/sqr8kuto/7el6wVE/+j9RES9N3vvlvyIM/32vH/A/juWpuLNT+j8oXJhym/T/PwQqsq58j/K/0KoO+IRN4r+iCfOEJ3EAwP/kYNoOUuW/skSPGH/Pgz+K2YhVyZfXP/sVMcmFkOG/CVWWx8Xh8T93LH+IRIPQv/6MJdDl7tm/LbXDq/3d9z/DE5HRpiXpv6AovBJgm+0/Gp4y8Gonpb+++jNJj0aEvz1pIGDtqdK/bY5I24weyr/G+eQAjmbOv5OP08dhhfQ/4sLuYuBHuj/8sd7K2Ev9v5GJ2+jRrAJA/m4ioR3e1T9GX9Rrza7vPyKzf5RYscC/7IUj5ZhO8j96578XkWzfvzToHKN/7rY/LtOsTtBj+T+mB+trGW3Rv3zJ5oqXy8o/DxWZ3wYC6T/cm1g/19jDv5VOkGzSidS/TDnhY7eH+z8/SITI8cbvP5/q1vijz+M/ImZ20RlFkD88FOpfEInEP5uQO3wbDvK/4Xua4OnQ/z/mJ6GASv/yv0NYPUvthME/VSkKAOpA1r9FA/7IXPnfv24er3/xI9y/tPMk/7Gh0z/lHZsrMwHlP5TklsBV7PW/cRIyOqu9yr93Lnblx3vfvwEWR99iEOS/fbEW/bqk/D/BZe4VJT/jPxRkn2vacMc/gyU4CJc1zT+ixy0J/43wv0Qe/6/F+Nq/M6iWg2yF2j/8UPn6TJDdP7xyV7FoLOw/vJ0kHRepAkAqhB62/M3vv1G0JSpI7fk/I1HhgfSq8T/agVcBJjnlPw45+ugHIeK//gs7oHO83D/ZBDwsQhLtP49RQ3G1zNE/qxnCKrI87z/EoP9vaI3sP6Ig4xogE+q/5D6g3orWdr9CnAkvGsjov8JEmYoWk+o/UC44ncfI878HWRaT71Hjv37cRMo1dN8/TCKZoVSF9L8HX6jdEj/5vwbHo4JbevU/7Sp8BU4D7z8o5gU328/jvzuDHWnZKuA/X5FJna3C3L+sBxb/U8yuvzHHBn+vQfQ/kt/DE9aEAMBLpO/QyfPnPytWgvoTUgFA",
          "dtype": "f8"
         },
         "yaxis": "y"
        },
        {
         "hovertemplate": "Tipo de Cultivo=Maiz<br>PC1=%{x}<br>PC2=%{y}<extra></extra>",
         "legendgroup": "Maiz",
         "marker": {
          "color": "#00cc96",
          "symbol": "circle"
         },
         "mode": "markers",
         "name": "Maiz",
         "orientation": "v",
         "showlegend": true,
         "type": "scatter",
         "x": {
          "bdata": "CR4HgPS6+D896RmYOVr6PxfkcWSu8fG/Vvhe3CXW8T/wTtbSDeviP7qfrlAE8vS/HVFuGr9X1D+PLBBKGrL4P8EKCYcXEgDA5vNZcHCJwr9KDjR6w8cBQJRVeEfbR+u/wxvcvcDD+z8LgTyedarzPxJdQ+w5XOk/9gldmtcz8T/Ak3GkCJ/0P7xaQuaVxsg/lnlw4HN+878gMZIOJnPSvyv87U6P29g/21Dg8T4f4r8AMB8tXQ8FQPPemr56rsU/HHCAmCXB4D+Wifa8uDz+v0S+VrE4tb0/p3XYrmDA8D9YJoj4dj/sP0HSnc6qa/c/ag4wTS2xtT9gtEjCE4j5v/uGQlTxQvC/U3tNUOQ+7r8AgxMuKXLrP7OAnmk7tNY/eKFEOe/h6z+YX2/OvkbQv7q3uyYhKqw/oc2CGwIrAcDI2UIXQ3VgP3oc/ODfx/W/MOmaC3wX8L/8aauxtBDVP5gqjeYVawBAgqxXyq3KAcDlt90wFQ/ZPz2ZAnydtNM/M2u5ZqF87b9f7iKy0TTQvzuv3hJSpuS/qHfBLuhf5b8g615SR8PrP+DJ37lCTgLAmba7Vzpzm78BBO5FehL4P7N7mqfzzpW/k1Tt+TOC7j8v/II0fZsDwAeFitglmMo/KYjZszfE/L9oa6cbhJH2vxDDFdn2yfY/JBIqPe696b/+jBIZVxayv8jjyM7QdOW/y2qIH3kq+T9DOmqzuIb4v4/XP9mPDPM/4MbWMA3e9z8KPTkyFgnpv6T//cIdkn6/r32otqZb8z8te4zvikSwvy7Y+T7XNao/TQU/EssV3T/iLm/U0A7hP/5UtRXCwNu/qpS7UZXo4T/EBJELZGzov0JkHWhxEfK/VnU/oUGSq7+E7fVfyFTtP2CT1QbqbeE/8u8LgK4887+H5tOvsWkGQMKVVxmto/y/aZrTrDGg4z+j1GXLbwP/v7LA2S3KF9W/44rX6XX35z+QYf27CHD2vxKTTmSfCdG/PmII0yUR/L/uyj+VAvkAwDymX/6QRN2/JA6iSkF9xj8sfr7qSR7XvzfI7G0WKwTA0ERl1+nm5b9K8DGccG3VP8vC8pNkovs/++l1LX5uAcCrmwyS+JP6v018Zq+/f/I/YHNWNnA54b9PSxp0LekCQMcyYnDznQFAcM8dN4yq4T9AynYfCxLQv2vjmdnt0ue/",
          "dtype": "f8"
         },
         "xaxis": "x",
         "y": {
          "bdata": "ck4g+M5f5b/A7fPxqhL8Py73K7zsOd4/cZJz1dHw7r8igxfZuG33P0ZxAkW/KvU/LIl5BBzu/L+vC33Y1r7BP6gFxK4+GABAFB5FUR387r+4uSU1LcvovzVrq1X6498/olzob5ZkA8BFC0Q0ZTDTv6Hd6zH4tvS/n+GaNmiN7L+xVmFPRUHivxkMK0MPw+8/QXwMfYlw9L/FUs1/G+v4P+D1Ufwc1fS/jYHWLCEK1r/fSWJnJCXWPx5fI/aiNbe/Xslm/K+Hv7+40jaaB67rP6HWgzgeaeS/+KZdA6x33z/PG+zW3rjnv0cqo76w9rO/FqQpa3icyD9A9BUIZF7cv0WrX3LMBvI/pitfl2FY4b/bG0g5pIDdvwy1ol5HQ9+/vo50GXS0uz/JXiPB1JsDwBe2yYPXRcG/85rFim9Z3T+GwTSjdgDfv9Ekhc67KMi/+hymIOZM3r+6PCZa7toDQDhfdnVGgei/+6QExkU08z/UwMxefRj1P9LCFzb7vPE/rkExf2NG4z/BGz/Saa8JQOC4Ho8RMvu/Ow+O89o13L8lAo9Ykn7+P2nGxxZVJ/6/+MqCVkpH+z+cwRMGUCTgP1pabDZBj9I/Y2akSyLe478ZuwYedAKSv+y2j2Zd4uS/LVdT8xMQ8j+S4D3IjtPwP7L2IBkPzuo/97HDJl9U5L/Ja7v0I+PuP4GYin7QKP8/XYRUA13P8z+4XiNlxYz1v4gPkWDB/+6//lFBY+F75r8m6GbGJjfwv6bQ/JK3ivI/YzGEfYXA5j9405UelEPyvxiFkUH5T8u/fOfN0PvW2r9X8xhiyDEBQPGTOXZHTvU/jp4ceEFS4b+ObmrI0jbuP4y8MzZ+7/2/agiUgv183b8IuAxtDjPdv7lCPvjaYN0/uU2NJKig2j9rnG8OXxn2P+w7Sy3HdPu/RUz3LW+G8T/1dKfnefz8vwrfdOQxmbu/k8urHEx89z/wLASLJvriv5CYYGA+jARAdwkZ27E+yr8iNs41LZ2kP6sgG6TkPu+/RUI70Jck+L/RiATVVPLyvx7s351YeL0/Qenu3L/EAMDfYV50jCXov7Qjr9+BqOS/YkiNvYeA6j+WICFfpR7bv3078gP5Wew/B9yJa2S8kj8jGplI2ACcv3l9ZnAfyvG/Ss509WN/4D/22kuVZozqv2zdu9wCxgNA",
          "dtype": "f8"
         },
         "yaxis": "y"
        }
       ],
       "layout": {
        "height": 700,
        "legend": {
         "title": {
          "text": "Tipo de Cultivo"
         },
         "tracegroupgap": 0
        },
        "template": {
         "data": {
          "bar": [
           {
            "error_x": {
             "color": "#2a3f5f"
            },
            "error_y": {
             "color": "#2a3f5f"
            },
            "marker": {
             "line": {
              "color": "#E5ECF6",
              "width": 0.5
             },
             "pattern": {
              "fillmode": "overlay",
              "size": 10,
              "solidity": 0.2
             }
            },
            "type": "bar"
           }
          ],
          "barpolar": [
           {
            "marker": {
             "line": {
              "color": "#E5ECF6",
              "width": 0.5
             },
             "pattern": {
              "fillmode": "overlay",
              "size": 10,
              "solidity": 0.2
             }
            },
            "type": "barpolar"
           }
          ],
          "carpet": [
           {
            "aaxis": {
             "endlinecolor": "#2a3f5f",
             "gridcolor": "white",
             "linecolor": "white",
             "minorgridcolor": "white",
             "startlinecolor": "#2a3f5f"
            },
            "baxis": {
             "endlinecolor": "#2a3f5f",
             "gridcolor": "white",
             "linecolor": "white",
             "minorgridcolor": "white",
             "startlinecolor": "#2a3f5f"
            },
            "type": "carpet"
           }
          ],
          "choropleth": [
           {
            "colorbar": {
             "outlinewidth": 0,
             "ticks": ""
            },
            "type": "choropleth"
           }
          ],
          "contour": [
           {
            "colorbar": {
             "outlinewidth": 0,
             "ticks": ""
            },
            "colorscale": [
             [
              0,
              "#0d0887"
             ],
             [
              0.1111111111111111,
              "#46039f"
             ],
             [
              0.2222222222222222,
              "#7201a8"
             ],
             [
              0.3333333333333333,
              "#9c179e"
             ],
             [
              0.4444444444444444,
              "#bd3786"
             ],
             [
              0.5555555555555556,
              "#d8576b"
             ],
             [
              0.6666666666666666,
              "#ed7953"
             ],
             [
              0.7777777777777778,
              "#fb9f3a"
             ],
             [
              0.8888888888888888,
              "#fdca26"
             ],
             [
              1,
              "#f0f921"
             ]
            ],
            "type": "contour"
           }
          ],
          "contourcarpet": [
           {
            "colorbar": {
             "outlinewidth": 0,
             "ticks": ""
            },
            "type": "contourcarpet"
           }
          ],
          "heatmap": [
           {
            "colorbar": {
             "outlinewidth": 0,
             "ticks": ""
            },
            "colorscale": [
             [
              0,
              "#0d0887"
             ],
             [
              0.1111111111111111,
              "#46039f"
             ],
             [
              0.2222222222222222,
              "#7201a8"
             ],
             [
              0.3333333333333333,
              "#9c179e"
             ],
             [
              0.4444444444444444,
              "#bd3786"
             ],
             [
              0.5555555555555556,
              "#d8576b"
             ],
             [
              0.6666666666666666,
              "#ed7953"
             ],
             [
              0.7777777777777778,
              "#fb9f3a"
             ],
             [
              0.8888888888888888,
              "#fdca26"
             ],
             [
              1,
              "#f0f921"
             ]
            ],
            "type": "heatmap"
           }
          ],
          "histogram": [
           {
            "marker": {
             "pattern": {
              "fillmode": "overlay",
              "size": 10,
              "solidity": 0.2
             }
            },
            "type": "histogram"
           }
          ],
          "histogram2d": [
           {
            "colorbar": {
             "outlinewidth": 0,
             "ticks": ""
            },
            "colorscale": [
             [
              0,
              "#0d0887"
             ],
             [
              0.1111111111111111,
              "#46039f"
             ],
             [
              0.2222222222222222,
              "#7201a8"
             ],
             [
              0.3333333333333333,
              "#9c179e"
             ],
             [
              0.4444444444444444,
              "#bd3786"
             ],
             [
              0.5555555555555556,
              "#d8576b"
             ],
             [
              0.6666666666666666,
              "#ed7953"
             ],
             [
              0.7777777777777778,
              "#fb9f3a"
             ],
             [
              0.8888888888888888,
              "#fdca26"
             ],
             [
              1,
              "#f0f921"
             ]
            ],
            "type": "histogram2d"
           }
          ],
          "histogram2dcontour": [
           {
            "colorbar": {
             "outlinewidth": 0,
             "ticks": ""
            },
            "colorscale": [
             [
              0,
              "#0d0887"
             ],
             [
              0.1111111111111111,
              "#46039f"
             ],
             [
              0.2222222222222222,
              "#7201a8"
             ],
             [
              0.3333333333333333,
              "#9c179e"
             ],
             [
              0.4444444444444444,
              "#bd3786"
             ],
             [
              0.5555555555555556,
              "#d8576b"
             ],
             [
              0.6666666666666666,
              "#ed7953"
             ],
             [
              0.7777777777777778,
              "#fb9f3a"
             ],
             [
              0.8888888888888888,
              "#fdca26"
             ],
             [
              1,
              "#f0f921"
             ]
            ],
            "type": "histogram2dcontour"
           }
          ],
          "mesh3d": [
           {
            "colorbar": {
             "outlinewidth": 0,
             "ticks": ""
            },
            "type": "mesh3d"
           }
          ],
          "parcoords": [
           {
            "line": {
             "colorbar": {
              "outlinewidth": 0,
              "ticks": ""
             }
            },
            "type": "parcoords"
           }
          ],
          "pie": [
           {
            "automargin": true,
            "type": "pie"
           }
          ],
          "scatter": [
           {
            "fillpattern": {
             "fillmode": "overlay",
             "size": 10,
             "solidity": 0.2
            },
            "type": "scatter"
           }
          ],
          "scatter3d": [
           {
            "line": {
             "colorbar": {
              "outlinewidth": 0,
              "ticks": ""
             }
            },
            "marker": {
             "colorbar": {
              "outlinewidth": 0,
              "ticks": ""
             }
            },
            "type": "scatter3d"
           }
          ],
          "scattercarpet": [
           {
            "marker": {
             "colorbar": {
              "outlinewidth": 0,
              "ticks": ""
             }
            },
            "type": "scattercarpet"
           }
          ],
          "scattergeo": [
           {
            "marker": {
             "colorbar": {
              "outlinewidth": 0,
              "ticks": ""
             }
            },
            "type": "scattergeo"
           }
          ],
          "scattergl": [
           {
            "marker": {
             "colorbar": {
              "outlinewidth": 0,
              "ticks": ""
             }
            },
            "type": "scattergl"
           }
          ],
          "scattermap": [
           {
            "marker": {
             "colorbar": {
              "outlinewidth": 0,
              "ticks": ""
             }
            },
            "type": "scattermap"
           }
          ],
          "scattermapbox": [
           {
            "marker": {
             "colorbar": {
              "outlinewidth": 0,
              "ticks": ""
             }
            },
            "type": "scattermapbox"
           }
          ],
          "scatterpolar": [
           {
            "marker": {
             "colorbar": {
              "outlinewidth": 0,
              "ticks": ""
             }
            },
            "type": "scatterpolar"
           }
          ],
          "scatterpolargl": [
           {
            "marker": {
             "colorbar": {
              "outlinewidth": 0,
              "ticks": ""
             }
            },
            "type": "scatterpolargl"
           }
          ],
          "scatterternary": [
           {
            "marker": {
             "colorbar": {
              "outlinewidth": 0,
              "ticks": ""
             }
            },
            "type": "scatterternary"
           }
          ],
          "surface": [
           {
            "colorbar": {
             "outlinewidth": 0,
             "ticks": ""
            },
            "colorscale": [
             [
              0,
              "#0d0887"
             ],
             [
              0.1111111111111111,
              "#46039f"
             ],
             [
              0.2222222222222222,
              "#7201a8"
             ],
             [
              0.3333333333333333,
              "#9c179e"
             ],
             [
              0.4444444444444444,
              "#bd3786"
             ],
             [
              0.5555555555555556,
              "#d8576b"
             ],
             [
              0.6666666666666666,
              "#ed7953"
             ],
             [
              0.7777777777777778,
              "#fb9f3a"
             ],
             [
              0.8888888888888888,
              "#fdca26"
             ],
             [
              1,
              "#f0f921"
             ]
            ],
            "type": "surface"
           }
          ],
          "table": [
           {
            "cells": {
             "fill": {
              "color": "#EBF0F8"
             },
             "line": {
              "color": "white"
             }
            },
            "header": {
             "fill": {
              "color": "#C8D4E3"
             },
             "line": {
              "color": "white"
             }
            },
            "type": "table"
           }
          ]
         },
         "layout": {
          "annotationdefaults": {
           "arrowcolor": "#2a3f5f",
           "arrowhead": 0,
           "arrowwidth": 1
          },
          "autotypenumbers": "strict",
          "coloraxis": {
           "colorbar": {
            "outlinewidth": 0,
            "ticks": ""
           }
          },
          "colorscale": {
           "diverging": [
            [
             0,
             "#8e0152"
            ],
            [
             0.1,
             "#c51b7d"
            ],
            [
             0.2,
             "#de77ae"
            ],
            [
             0.3,
             "#f1b6da"
            ],
            [
             0.4,
             "#fde0ef"
            ],
            [
             0.5,
             "#f7f7f7"
            ],
            [
             0.6,
             "#e6f5d0"
            ],
            [
             0.7,
             "#b8e186"
            ],
            [
             0.8,
             "#7fbc41"
            ],
            [
             0.9,
             "#4d9221"
            ],
            [
             1,
             "#276419"
            ]
           ],
           "sequential": [
            [
             0,
             "#0d0887"
            ],
            [
             0.1111111111111111,
             "#46039f"
            ],
            [
             0.2222222222222222,
             "#7201a8"
            ],
            [
             0.3333333333333333,
             "#9c179e"
            ],
            [
             0.4444444444444444,
             "#bd3786"
            ],
            [
             0.5555555555555556,
             "#d8576b"
            ],
            [
             0.6666666666666666,
             "#ed7953"
            ],
            [
             0.7777777777777778,
             "#fb9f3a"
            ],
            [
             0.8888888888888888,
             "#fdca26"
            ],
            [
             1,
             "#f0f921"
            ]
           ],
           "sequentialminus": [
            [
             0,
             "#0d0887"
            ],
            [
             0.1111111111111111,
             "#46039f"
            ],
            [
             0.2222222222222222,
             "#7201a8"
            ],
            [
             0.3333333333333333,
             "#9c179e"
            ],
            [
             0.4444444444444444,
             "#bd3786"
            ],
            [
             0.5555555555555556,
             "#d8576b"
            ],
            [
             0.6666666666666666,
             "#ed7953"
            ],
            [
             0.7777777777777778,
             "#fb9f3a"
            ],
            [
             0.8888888888888888,
             "#fdca26"
            ],
            [
             1,
             "#f0f921"
            ]
           ]
          },
          "colorway": [
           "#636efa",
           "#EF553B",
           "#00cc96",
           "#ab63fa",
           "#FFA15A",
           "#19d3f3",
           "#FF6692",
           "#B6E880",
           "#FF97FF",
           "#FECB52"
          ],
          "font": {
           "color": "#2a3f5f"
          },
          "geo": {
           "bgcolor": "white",
           "lakecolor": "white",
           "landcolor": "#E5ECF6",
           "showlakes": true,
           "showland": true,
           "subunitcolor": "white"
          },
          "hoverlabel": {
           "align": "left"
          },
          "hovermode": "closest",
          "mapbox": {
           "style": "light"
          },
          "paper_bgcolor": "white",
          "plot_bgcolor": "#E5ECF6",
          "polar": {
           "angularaxis": {
            "gridcolor": "white",
            "linecolor": "white",
            "ticks": ""
           },
           "bgcolor": "#E5ECF6",
           "radialaxis": {
            "gridcolor": "white",
            "linecolor": "white",
            "ticks": ""
           }
          },
          "scene": {
           "xaxis": {
            "backgroundcolor": "#E5ECF6",
            "gridcolor": "white",
            "gridwidth": 2,
            "linecolor": "white",
            "showbackground": true,
            "ticks": "",
            "zerolinecolor": "white"
           },
           "yaxis": {
            "backgroundcolor": "#E5ECF6",
            "gridcolor": "white",
            "gridwidth": 2,
            "linecolor": "white",
            "showbackground": true,
            "ticks": "",
            "zerolinecolor": "white"
           },
           "zaxis": {
            "backgroundcolor": "#E5ECF6",
            "gridcolor": "white",
            "gridwidth": 2,
            "linecolor": "white",
            "showbackground": true,
            "ticks": "",
            "zerolinecolor": "white"
           }
          },
          "shapedefaults": {
           "line": {
            "color": "#2a3f5f"
           }
          },
          "ternary": {
           "aaxis": {
            "gridcolor": "white",
            "linecolor": "white",
            "ticks": ""
           },
           "baxis": {
            "gridcolor": "white",
            "linecolor": "white",
            "ticks": ""
           },
           "bgcolor": "#E5ECF6",
           "caxis": {
            "gridcolor": "white",
            "linecolor": "white",
            "ticks": ""
           }
          },
          "title": {
           "x": 0.05
          },
          "xaxis": {
           "automargin": true,
           "gridcolor": "white",
           "linecolor": "white",
           "ticks": "",
           "title": {
            "standoff": 15
           },
           "zerolinecolor": "white",
           "zerolinewidth": 2
          },
          "yaxis": {
           "automargin": true,
           "gridcolor": "white",
           "linecolor": "white",
           "ticks": "",
           "title": {
            "standoff": 15
           },
           "zerolinecolor": "white",
           "zerolinewidth": 2
          }
         }
        },
        "title": {
         "text": "PCA - PC1 vs PC2 (Varianza explicada: 22.0%)"
        },
        "width": 1000,
        "xaxis": {
         "anchor": "y",
         "domain": [
          0,
          1
         ],
         "title": {
          "text": "PC1"
         }
        },
        "yaxis": {
         "anchor": "x",
         "domain": [
          0,
          1
         ],
         "title": {
          "text": "PC2"
         }
        }
       }
      }
     },
     "metadata": {},
     "output_type": "display_data"
    },
    {
     "data": {
      "application/vnd.plotly.v1+json": {
       "config": {
        "plotlyServerURL": "https://plot.ly"
       },
       "data": [
        {
         "hovertemplate": "Tipo de Cultivo=Trigo<br>PC1=%{x}<br>PC2=%{y}<br>PC3=%{z}<extra></extra>",
         "legendgroup": "Trigo",
         "marker": {
          "color": "#636efa",
          "symbol": "circle"
         },
         "mode": "markers",
         "name": "Trigo",
         "scene": "scene",
         "showlegend": true,
         "type": "scatter3d",
         "x": {
          "bdata": "UjMaUwTk3b+9jmkM7c33vzpWUzpYZ7w/OVl0Ysf80780FIT+kM/Qv6z3Oo2bEvA/7DMNROFtpj/OpPRgWG32Pz7maJN1Vu+/xFXiD2umob/lw8pocELzv6L55bPfldU/0ZbDxutt6L94Z4HV+Y8CQPkGJNETuue/OsDamZv4tT8ugilHJR78vwC5BuEJNfe/BbE78AXR+T+6oYgDMyXxP2sG23J+IOY/7dKOG0yH8r9eTDWQJH3UP8dCqL/mzZG/4nmn7jpmv79/RLewPmX2v7IbxBEzAu4/HFG+lsm+5b/dWp33qszOP1GarsnObtu/0EXVU03Prr9+2khudKDjv4kPq//T0dw/QaEDvYLJ3j+IIYxz8970v8IZVfY5w+K/YPWgTSstB0B+lYQXTwXov4CtM/Ei8Pw/0VqNv3Cu7r/2Kr/tE43Lv1s2W2jypwdA9qHc749CyL9/yPB++Grnv/FE2dcmavo/+BgrdiBKuD/O9ZlSlg3yv7ohgZIis7a/Dtj1+eHW178fqjieXHoFQGMDybcpWOW/Ww+xDA+p4L+3pWW3lBv4v0gRDisAbKq/RpPdJnbK5b98wL4EQJLkP8sEgu0aBOU/E5alqMHC1L//kzP6Dxr+v2RnB5vIANs/wtP5r3/R5b+Fs1TXBULjv2TJMrFktvi/x0JD/xo05z+hKNTPcpbxP3J2ZQeI17M/UvVrgLUo4b/UlhwoXJ7wv1DNbCUpKmU/VaSzLySTuj8Np9fLcwHgvw5+d9Dgguq/8kKfb7p95L9iT04fTWTFv8maizzMSOE/Ww2eWOeE9z+vrYBmU0zRv7YMD1zt6MG/zi8+DABbjL8CEx2KDfajvwvLnc/MCua/BsKLPDEt/z8WtD93kUbmP7PlLcRMc8y/uo07Tbi1wb/zqfkTXtLwP5KAfi0A+O8/DpeOqtag8D+t2PlDJ07vP17lwyQAmKU/lt+GETEn9r88oC804ejlvw==",
          "dtype": "f8"
         },
         "y": {
          "bdata": "ULv2gd6q7L9aLVepH9XiP7TKo9gj1+2/iT2uny0GCcDRZlwV4Sf0P9xx+l04tOw/pNJ/iDJf779MM01o0c/Hv2cU2y3mobE/QAMTbU3a/z9u+KpRGteyP8m3AbNL1uG/5FHCzJlb678wIIkUM/bavwXrws+duPq/9bk9oxeC9L8LR6RCJgjcv56gDqUFftK/yGA7UrA+ur/ZMxkPuYfaP+JSN/u7JeE/AAfxyTGP+T83LWDHyPPov21uTfw+q+C/BsVKvl2EzL+jCGbbbgHhPzcJqZvObdA/ncUmHmX38j/rIecorqHMP+M4kXXx5wLAR2YW8RD7A8At5ET6AX/pv2BRS31NevU/IujKZwmp7L9EAA6xNmPKv4BR/reDefq/tVqOGjhD6b/XzDj2AxrSv/1PokHh9eA/kLXWqtl54z88npAT97K5v4GZkdvECtW/Shnv1rBO8D9xw3BRks31v3CmchkwyPa/obJtLGm/AcALOtpUkYDwP0FH0Zo1KOM/FULAiX8H6j8mwC3BI+jrP5S93TifT8I/TT9KuNjx3b+Kq0rXaubkP13hfaDJQOo/Lv6s+aDF6j8x7VHOrcXgP0CdbLZCJbI/GE2jLeNO8T/YSKPv+726vyLk3PSBee0/w77ZjR3c0j8txmWv9jD6v12Pz8fZXOG/AKtTSnll6r9ogaURdZ3YP+gKJbRvZOu/OLCjHdl4tD+xuymllR8KwBu5zOI/wOk/VTb7YTpe9L/2hihCBHsEQGCVcy3LbEW/j9hmebW2mr+8G9ZfiWHxP1fuHvLBdfI/EZl+ufzc8r8NZa+rIQvXP6qfjOROTv6/dKd3QnHPA8Bzop+0gW/8v9ZaWpZygeq/UF7lO4odw79uG2cOkjH3P2Xw85HkWPg/UbdSgmTe9j9lbyWBVzCRv6fcntZBZdy/K7NgKbuQ1L8LGjXK8Djav3k/LeG9vuO/VAJuksE6tj96h4fqXnvxvw==",
          "dtype": "f8"
         },
         "z": {
          "bdata": "8XU1ojy99T98Q+73lZvpvyP1SUmMyda/tGDKOlty5L/2adpOy5unP0BidVwTJsY/FMEKOHTM5b8iDS453bPlv4IRlmVKePq/9R+kcj1897/pYoK3Q1/3v/Rin5KT9NC/sJzDnlUt8z9Y5nlq/avhv0Ysiaw2TeY/s04Cb9vk8L+4ilxg7YSYv4AXELmasPI/O6wXIFSI2z9IiwfEJV3hP1J1hRmq1fm/7ts8p4vy7j/Cpt4i03v2v1UqBcd3D/6/Elk4VocA5L+PeqsOOE3yv5KoeYWv1KC/n/RF39bV9T+HVB6HwJi/vwSGDDacFbS/LEpXW7Qt8D8kbh/JkLvWvzsgD/Qc/9q/rPsPN5rPdD9OjDuynqG+P7TW13WY3uk/ibkqZN5m0b+3H9aRM/3xv/VUEHywuaa/G0g73FXi97/t8ijG5YD0PwBuKe2YhOI/LPSz3V775r+mWTv9zGf/vx+0fAAV9cy/w8d5IUGo+z863KRoHB38vyzUahH2nQJA9sy3CTX/AsCARASTE2nWP1qSPtd9s+M/BH67Q3EL8T9rYlObaGTDP7LQu8Zanee/7Q9DkzGb9r/e4Kf5qc/mP96GNjFqwfO/f5oT0SHx0D968OW2DwnUv9am+q8XIeg/bkE06SaVm7+8G7GvDjTMPxJHW7wzb7U/HxilRN1B0D8QLUsEnYLrPwjLW7NHruU/slwK/XX84r8mWb2jxnjkv1Ye+XTHB7E/HGLRsMDR9z8bb2/misLLv51TDcrIXM2/9BQY/qV+4T8sTblOCJbhP93C83SXo8u/Nk2s+4g28T84uIjYJYADQDeEWKz4N9o/h7dzrXFawL8AFswDpC3WP0JYDCUd7+i/ocD1ygB7/D9Ng8R3LX4GwCT9xlftIfk/Y7/1xjxH2z/S8mdfQA/BPyNn7EObwfC/DVGw9FMm8r8ofx5ldpjnP8aIsj0/6Ki/aCbGTSPi6r8p6rFUITT6Pw==",
          "dtype": "f8"
         }
        },
        {
         "hovertemplate": "Tipo de Cultivo=Soja<br>PC1=%{x}<br>PC2=%{y}<br>PC3=%{z}<extra></extra>",
         "legendgroup": "Soja",
         "marker": {
          "color": "#EF553B",
          "symbol": "circle"
         },
         "mode": "markers",
         "name": "Soja",
         "scene": "scene",
         "showlegend": true,
         "type": "scatter3d",
         "x": {
          "bdata": "HQxEEWpr4r/oHi23aJe8v0eOqVbzAPo/QBRReZCE9D8nfolPHBPrP6wPKcVgk+m/ZFZ2XAXplj+EJ8KND8vcPwz47DthRwJAA/UZpqaN1j/gPbUnfs7kPyDQqJduXv4/aDfb2mA19T/3AgDIOPb0PwOrYFKL8+g//3uZzXYs5j/9R2Wn0c3GP/J9qmDw/uc/XzIhIQsD879tpB4GROqxP/VHuTgIWuI/uZ5K8OBX7b83wjzFJqkBQCdqUEFCjvG/Lj1NgP95+L8pa4IVqkzqv4EVxXu5afQ/2KyFpQ386z9W4zq79Xeyv6ajac0aX/m/11emBE4C7z/2Qs6I4UDuP60BK3NxDvG/nzSzSe8RxD92GFIiHR/gv1w7vlXZ/ta/LBE+QN/wAMBuQ4ZxdsG7PwFC+Z75FPE/87rVVD0G8b9R9PgKmT/1v/xNko/Tpuy/fcwFdRMLAsD7RIPS6ejFP479dlP9xfg/siYMA2Fg8z+K1OIB8djPPxW5GsGer+i/6WlJ8wbHjT+jbOFIqTTLvz34AQsC1MG/fwJNWGWe4D/s7YlCy0nJv2MOa/x46AJArSMFiFzK4b/Kzrr2wavkP7k+LNrBHOe/ILW6Rayj4T8cxKl8tRX0P4PJmTQvYuU/ChJ/cJ5i5T/c4Pqtn1fiv20m+KkijPI/84FdY11d5D9ASDDKhPKqP6yB6e7td6S/jdTCMytB+7/y+bE8Uj/0P495iACNEfs/xYQJHn6v+7+0Zzgt1k8AQP01yEjTcue/GCArZlqa2L8ErIXHfqDzP40dII6dvP+/VL2tHTqt5b8n03/slejIv1ia87NcgvM/ZUr4LJr/5b/VsYC3C5bbv627o9fiZfK/PHP7hvsCtT9++tDTJJjwvxYX9w+4vfU/Hm+D89Q0gD8foUqUjUz+P+iq4mjCIq6/D6xuJ2cGxr9n0U5Sbr38v3F/PnRbAf4/C5p+NM2V6j9zaX4D5SLpv+SYkG2A7tQ/oxzfEY1R5b9djigJDWzVv1vSNCoj0Py/ltNwvB829T9W+WP/w+fDPww2t8OZdsk/BGsVbJvosD+JyesdiYHyvwv4ndRz8/k/rhoAIVhc+b9piC+0gczRv5mNbDzcBQPAIVZqY8DoAcABV5b19nYFwDbLv8/rksW/",
          "dtype": "f8"
         },
         "y": {
          "bdata": "ys8NywJW+b+qvMynCjftv3d56WzRheE/ltpGUNDM4r/zMPBXot/2v37vpnD4cOa/T6Fxq0mz+L9Q9Q8PetzrP3Zd4hvV+fM/Vc0BzRhS9r8lTYRnM0bFv9/sqr8kuto/7el6wVE/+j9RES9N3vvlvyIM/32vH/A/juWpuLNT+j8oXJhym/T/PwQqsq58j/K/0KoO+IRN4r+iCfOEJ3EAwP/kYNoOUuW/skSPGH/Pgz+K2YhVyZfXP/sVMcmFkOG/CVWWx8Xh8T93LH+IRIPQv/6MJdDl7tm/LbXDq/3d9z/DE5HRpiXpv6AovBJgm+0/Gp4y8Gonpb+++jNJj0aEvz1pIGDtqdK/bY5I24weyr/G+eQAjmbOv5OP08dhhfQ/4sLuYuBHuj/8sd7K2Ev9v5GJ2+jRrAJA/m4ioR3e1T9GX9Rrza7vPyKzf5RYscC/7IUj5ZhO8j96578XkWzfvzToHKN/7rY/LtOsTtBj+T+mB+trGW3Rv3zJ5oqXy8o/DxWZ3wYC6T/cm1g/19jDv5VOkGzSidS/TDnhY7eH+z8/SITI8cbvP5/q1vijz+M/ImZ20RlFkD88FOpfEInEP5uQO3wbDvK/4Xua4OnQ/z/mJ6GASv/yv0NYPUvthME/VSkKAOpA1r9FA/7IXPnfv24er3/xI9y/tPMk/7Gh0z/lHZsrMwHlP5TklsBV7PW/cRIyOqu9yr93Lnblx3vfvwEWR99iEOS/fbEW/bqk/D/BZe4VJT/jPxRkn2vacMc/gyU4CJc1zT+ixy0J/43wv0Qe/6/F+Nq/M6iWg2yF2j/8UPn6TJDdP7xyV7FoLOw/vJ0kHRepAkAqhB62/M3vv1G0JSpI7fk/I1HhgfSq8T/agVcBJjnlPw45+ugHIeK//gs7oHO83D/ZBDwsQhLtP49RQ3G1zNE/qxnCKrI87z/EoP9vaI3sP6Ig4xogE+q/5D6g3orWdr9CnAkvGsjov8JEmYoWk+o/UC44ncfI878HWRaT71Hjv37cRMo1dN8/TCKZoVSF9L8HX6jdEj/5vwbHo4JbevU/7Sp8BU4D7z8o5gU328/jvzuDHWnZKuA/X5FJna3C3L+sBxb/U8yuvzHHBn+vQfQ/kt/DE9aEAMBLpO/QyfPnPytWgvoTUgFA",
          "dtype": "f8"
         },
         "z": {
          "bdata": "tGkeAJxH4D8bLHszIJL3v6z1WDT+TuU/9tJObWHk9b/bgKzVm0z+P7WVcp/MVd0/fm2owVPm9b+8ZBq5zJ/pP4MjFuVZcNW/oMdSvvVO7b/lXNE2EQTWv6shrJohzs+/wnJCjqIa7T926GO4W4rhv5bMlPD9Pfm/1n2064bA0D80vBy+6MD2v1AuMClPjuM/douLB0Z77b+CaX+YpzLjPwxDf/O1h8U/6Psykrpj5j+iXfAcHHvsP+lHmPKypgRAse/cJD0Fyj8J6jaFoW7Zv8ij5ZacGuu/kPFRuZl8ij9KnaGojGHqv7QeyzdZEug/foVzlAI4/z/Kk3tMauLnP4czLAF0AADA5CXj9j3oAEAS0V4C7mrvvyzfD5+zusS/N9h/aHdY/b/CHUzaFRz7v/2J3ClzW8i/yX/HWP+E3T/8ff4ajMfsP6XWB61/Xcc/kuWiSRDdxT+VdRPsJIH1v4KaCw8xDOm/QoKJFGafzz9aPsFnEpDhP0j8xmAVlOY/TGlbURHU8T8DQQjY5+L1P3SRRxn3Y/K/RolXfC3f6r9mRKDg/2/sv6yxtVxSauS/6Coxo2RHuD9u0+XRDwruPygvWwpJf7s/gclm67kfv7+H1dv55xHfPzacJfEIVui/opBkvPGY5z+T/IhfL3/TP5EvzZpRYwDAmtRAQsmw57/SFtNYk6CYv/LcYDZocuA/JEK6KTYNqz9psPE7v6D0P9qf1O5anuu/Ol4LfpCg7T85I4kDFUq4P5RFKPNsr9i/FOuEPoRl5r+oxupxqVv7P7qnapUPe/k/FWAMEIhL37+R9RyLs4b3P2YxhS3z1Mo/nLD9SCg11T8QBIC2bJD2PwiNDHIPQeC//Sb3QWUPAUCe4ii23zDvP7tm7UrR3QHAr/cryi/H+D8Jg4bjkw3wP0iM6RN25ru/tfaxS+b83b93N7p/oSv9P4IXYVJMT+y/Vywan3wh/j+1vr7HYAHwP9bWyDl62eS/JJut1hVN8z/pt0a4y4f4v1TubB+DgMW/G2h/VBrZ0z8lB0bfhy/ZP7qT8d0emvM//WG4hwJp2T8Pu2Dno3e7vzPOqn16P/q/UDTjuqBj5j9OCCEh8p3sv9JtZPXrvu8/5Sd7YRHH+r+0Ah5xdxPqv4WarqT5uLe/",
          "dtype": "f8"
         }
        },
        {
         "hovertemplate": "Tipo de Cultivo=Maiz<br>PC1=%{x}<br>PC2=%{y}<br>PC3=%{z}<extra></extra>",
         "legendgroup": "Maiz",
         "marker": {
          "color": "#00cc96",
          "symbol": "circle"
         },
         "mode": "markers",
         "name": "Maiz",
         "scene": "scene",
         "showlegend": true,
         "type": "scatter3d",
         "x": {
          "bdata": "CR4HgPS6+D896RmYOVr6PxfkcWSu8fG/Vvhe3CXW8T/wTtbSDeviP7qfrlAE8vS/HVFuGr9X1D+PLBBKGrL4P8EKCYcXEgDA5vNZcHCJwr9KDjR6w8cBQJRVeEfbR+u/wxvcvcDD+z8LgTyedarzPxJdQ+w5XOk/9gldmtcz8T/Ak3GkCJ/0P7xaQuaVxsg/lnlw4HN+878gMZIOJnPSvyv87U6P29g/21Dg8T4f4r8AMB8tXQ8FQPPemr56rsU/HHCAmCXB4D+Wifa8uDz+v0S+VrE4tb0/p3XYrmDA8D9YJoj4dj/sP0HSnc6qa/c/ag4wTS2xtT9gtEjCE4j5v/uGQlTxQvC/U3tNUOQ+7r8AgxMuKXLrP7OAnmk7tNY/eKFEOe/h6z+YX2/OvkbQv7q3uyYhKqw/oc2CGwIrAcDI2UIXQ3VgP3oc/ODfx/W/MOmaC3wX8L/8aauxtBDVP5gqjeYVawBAgqxXyq3KAcDlt90wFQ/ZPz2ZAnydtNM/M2u5ZqF87b9f7iKy0TTQvzuv3hJSpuS/qHfBLuhf5b8g615SR8PrP+DJ37lCTgLAmba7Vzpzm78BBO5FehL4P7N7mqfzzpW/k1Tt+TOC7j8v/II0fZsDwAeFitglmMo/KYjZszfE/L9oa6cbhJH2vxDDFdn2yfY/JBIqPe696b/+jBIZVxayv8jjyM7QdOW/y2qIH3kq+T9DOmqzuIb4v4/XP9mPDPM/4MbWMA3e9z8KPTkyFgnpv6T//cIdkn6/r32otqZb8z8te4zvikSwvy7Y+T7XNao/TQU/EssV3T/iLm/U0A7hP/5UtRXCwNu/qpS7UZXo4T/EBJELZGzov0JkHWhxEfK/VnU/oUGSq7+E7fVfyFTtP2CT1QbqbeE/8u8LgK4887+H5tOvsWkGQMKVVxmto/y/aZrTrDGg4z+j1GXLbwP/v7LA2S3KF9W/44rX6XX35z+QYf27CHD2vxKTTmSfCdG/PmII0yUR/L/uyj+VAvkAwDymX/6QRN2/JA6iSkF9xj8sfr7qSR7XvzfI7G0WKwTA0ERl1+nm5b9K8DGccG3VP8vC8pNkovs/++l1LX5uAcCrmwyS+JP6v018Zq+/f/I/YHNWNnA54b9PSxp0LekCQMcyYnDznQFAcM8dN4yq4T9AynYfCxLQv2vjmdnt0ue/",
          "dtype": "f8"
         },
         "y": {
          "bdata": "ck4g+M5f5b/A7fPxqhL8Py73K7zsOd4/cZJz1dHw7r8igxfZuG33P0ZxAkW/KvU/LIl5BBzu/L+vC33Y1r7BP6gFxK4+GABAFB5FUR387r+4uSU1LcvovzVrq1X6498/olzob5ZkA8BFC0Q0ZTDTv6Hd6zH4tvS/n+GaNmiN7L+xVmFPRUHivxkMK0MPw+8/QXwMfYlw9L/FUs1/G+v4P+D1Ufwc1fS/jYHWLCEK1r/fSWJnJCXWPx5fI/aiNbe/Xslm/K+Hv7+40jaaB67rP6HWgzgeaeS/+KZdA6x33z/PG+zW3rjnv0cqo76w9rO/FqQpa3icyD9A9BUIZF7cv0WrX3LMBvI/pitfl2FY4b/bG0g5pIDdvwy1ol5HQ9+/vo50GXS0uz/JXiPB1JsDwBe2yYPXRcG/85rFim9Z3T+GwTSjdgDfv9Ekhc67KMi/+hymIOZM3r+6PCZa7toDQDhfdnVGgei/+6QExkU08z/UwMxefRj1P9LCFzb7vPE/rkExf2NG4z/BGz/Saa8JQOC4Ho8RMvu/Ow+O89o13L8lAo9Ykn7+P2nGxxZVJ/6/+MqCVkpH+z+cwRMGUCTgP1pabDZBj9I/Y2akSyLe478ZuwYedAKSv+y2j2Zd4uS/LVdT8xMQ8j+S4D3IjtPwP7L2IBkPzuo/97HDJl9U5L/Ja7v0I+PuP4GYin7QKP8/XYRUA13P8z+4XiNlxYz1v4gPkWDB/+6//lFBY+F75r8m6GbGJjfwv6bQ/JK3ivI/YzGEfYXA5j9405UelEPyvxiFkUH5T8u/fOfN0PvW2r9X8xhiyDEBQPGTOXZHTvU/jp4ceEFS4b+ObmrI0jbuP4y8MzZ+7/2/agiUgv183b8IuAxtDjPdv7lCPvjaYN0/uU2NJKig2j9rnG8OXxn2P+w7Sy3HdPu/RUz3LW+G8T/1dKfnefz8vwrfdOQxmbu/k8urHEx89z/wLASLJvriv5CYYGA+jARAdwkZ27E+yr8iNs41LZ2kP6sgG6TkPu+/RUI70Jck+L/RiATVVPLyvx7s351YeL0/Qenu3L/EAMDfYV50jCXov7Qjr9+BqOS/YkiNvYeA6j+WICFfpR7bv3078gP5Wew/B9yJa2S8kj8jGplI2ACcv3l9ZnAfyvG/Ss509WN/4D/22kuVZozqv2zdu9wCxgNA",
          "dtype": "f8"
         },
         "z": {
          "bdata": "gyKg/y6P878cjgns3xLNv2GnvRC7qvM/b/w/X2ZMpL8T3yshBY7/Pzgujyu1Fbg/yzzMslK3/T80BO/X5Cvjvx9Dnb2xhNO/6mhaNys14T9OA3BvKOnOv7KMu1sqac8/oBDB8fGBxL8otKMDtiXOv4DR+ZoLFPI/ry1p5vRg/r/QRuilC/2EP+hPyVkkxgTA7u7ePaUM7z+1JQbAzT74v5DcOjprvfe/XV9IqpBi078EIreiHIz4P++Iahyi6fw/qaF0idT89T/gWZ0MWA/hvz3hRVZvdPi/PKl6c9ZfAcDKMX7z5r/nP6hnY+CeZui/Xt0JPUJ16T+4oQSq4Rnov5yih7kdAOK/aNpwgLRT/L8/tJ0ta9TUP6GhWfNmTgDAQVXNvyYm9L+Sgqq//w7wPzTATLjaPQTA6Ij5RKX34r874nSn/Mf/P2ojtIxq5+c/MqtIR6iu+r/WWE8dQLvkP8r5C8m+OsS/Jx+v/6yt3T/qO6YtWpXgPyVO+wvya9w/DnctvCjT5j9fKzvWjADNv3YFy/tlwL8/+s7Df3t89j8WsHg1kk3HP2eznKjxqgLArZCBTwct3D8CPx9y/UDwv8zd9PJu4MU/OJdqUq++yb9SaOCcPd/PP9R2dVCzDPo/sw9D3cnc8z8Ly3i+6IvWv8BQz51b2O4/Qi2WYVtJ7L8fCtUJon3Yv6jmhb/K6uQ/SRrYP7sv1j9gXVnCrIXqv4x8FTYwjvy/NkNhfJtf1j+lstszq9f3vzZNxYBADMK/1nPIyQRQ6r+6nsKrf6HFP5WShJtig8W/zqd9zWhd9r+AsIJb2f/dv3dFvUThCPA/hP3nT08Z9L/ESAreNP7yv0oL50wY0ei/xoiMugmc5z8hvwjmKC8EQIiBnuSqYeo/GJoj1Ttf5T+ggbgBF8XOP2oRm++6bPc/qR8MsCVk0r+Y+UNKL/rwP6Yec5SWYae/cw8FZ7U+97/0wJ94ev3tv2jggWg+o+k/O0DwW3HNAcBzuBPPhMzPv3WLsQZFYOC/a7U3GIZzmr9evIqiMjvqvwSpvIOUDZA/Zv+3zl/i+j/+7nhOXqbtP5DgR5Iwo9g/2F8J+7MD8D+yeplIX3fqP9hWAHJ+9Mq/rJKyX6UV2j87h9bpkuzJv2l9CQa0tvI/4Mxt6+hUyT+0cyHAGcHzP85X7R3nsuw/",
          "dtype": "f8"
         }
        }
       ],
       "layout": {
        "height": 700,
        "legend": {
         "title": {
          "text": "Tipo de Cultivo"
         },
         "tracegroupgap": 0
        },
        "scene": {
         "domain": {
          "x": [
           0,
           1
          ],
          "y": [
           0,
           1
          ]
         },
         "xaxis": {
          "title": {
           "text": "PC1"
          }
         },
         "yaxis": {
          "title": {
           "text": "PC2"
          }
         },
         "zaxis": {
          "title": {
           "text": "PC3"
          }
         }
        },
        "template": {
         "data": {
          "bar": [
           {
            "error_x": {
             "color": "#2a3f5f"
            },
            "error_y": {
             "color": "#2a3f5f"
            },
            "marker": {
             "line": {
              "color": "#E5ECF6",
              "width": 0.5
             },
             "pattern": {
              "fillmode": "overlay",
              "size": 10,
              "solidity": 0.2
             }
            },
            "type": "bar"
           }
          ],
          "barpolar": [
           {
            "marker": {
             "line": {
              "color": "#E5ECF6",
              "width": 0.5
             },
             "pattern": {
              "fillmode": "overlay",
              "size": 10,
              "solidity": 0.2
             }
            },
            "type": "barpolar"
           }
          ],
          "carpet": [
           {
            "aaxis": {
             "endlinecolor": "#2a3f5f",
             "gridcolor": "white",
             "linecolor": "white",
             "minorgridcolor": "white",
             "startlinecolor": "#2a3f5f"
            },
            "baxis": {
             "endlinecolor": "#2a3f5f",
             "gridcolor": "white",
             "linecolor": "white",
             "minorgridcolor": "white",
             "startlinecolor": "#2a3f5f"
            },
            "type": "carpet"
           }
          ],
          "choropleth": [
           {
            "colorbar": {
             "outlinewidth": 0,
             "ticks": ""
            },
            "type": "choropleth"
           }
          ],
          "contour": [
           {
            "colorbar": {
             "outlinewidth": 0,
             "ticks": ""
            },
            "colorscale": [
             [
              0,
              "#0d0887"
             ],
             [
              0.1111111111111111,
              "#46039f"
             ],
             [
              0.2222222222222222,
              "#7201a8"
             ],
             [
              0.3333333333333333,
              "#9c179e"
             ],
             [
              0.4444444444444444,
              "#bd3786"
             ],
             [
              0.5555555555555556,
              "#d8576b"
             ],
             [
              0.6666666666666666,
              "#ed7953"
             ],
             [
              0.7777777777777778,
              "#fb9f3a"
             ],
             [
              0.8888888888888888,
              "#fdca26"
             ],
             [
              1,
              "#f0f921"
             ]
            ],
            "type": "contour"
           }
          ],
          "contourcarpet": [
           {
            "colorbar": {
             "outlinewidth": 0,
             "ticks": ""
            },
            "type": "contourcarpet"
           }
          ],
          "heatmap": [
           {
            "colorbar": {
             "outlinewidth": 0,
             "ticks": ""
            },
            "colorscale": [
             [
              0,
              "#0d0887"
             ],
             [
              0.1111111111111111,
              "#46039f"
             ],
             [
              0.2222222222222222,
              "#7201a8"
             ],
             [
              0.3333333333333333,
              "#9c179e"
             ],
             [
              0.4444444444444444,
              "#bd3786"
             ],
             [
              0.5555555555555556,
              "#d8576b"
             ],
             [
              0.6666666666666666,
              "#ed7953"
             ],
             [
              0.7777777777777778,
              "#fb9f3a"
             ],
             [
              0.8888888888888888,
              "#fdca26"
             ],
             [
              1,
              "#f0f921"
             ]
            ],
            "type": "heatmap"
           }
          ],
          "histogram": [
           {
            "marker": {
             "pattern": {
              "fillmode": "overlay",
              "size": 10,
              "solidity": 0.2
             }
            },
            "type": "histogram"
           }
          ],
          "histogram2d": [
           {
            "colorbar": {
             "outlinewidth": 0,
             "ticks": ""
            },
            "colorscale": [
             [
              0,
              "#0d0887"
             ],
             [
              0.1111111111111111,
              "#46039f"
             ],
             [
              0.2222222222222222,
              "#7201a8"
             ],
             [
              0.3333333333333333,
              "#9c179e"
             ],
             [
              0.4444444444444444,
              "#bd3786"
             ],
             [
              0.5555555555555556,
              "#d8576b"
             ],
             [
              0.6666666666666666,
              "#ed7953"
             ],
             [
              0.7777777777777778,
              "#fb9f3a"
             ],
             [
              0.8888888888888888,
              "#fdca26"
             ],
             [
              1,
              "#f0f921"
             ]
            ],
            "type": "histogram2d"
           }
          ],
          "histogram2dcontour": [
           {
            "colorbar": {
             "outlinewidth": 0,
             "ticks": ""
            },
            "colorscale": [
             [
              0,
              "#0d0887"
             ],
             [
              0.1111111111111111,
              "#46039f"
             ],
             [
              0.2222222222222222,
              "#7201a8"
             ],
             [
              0.3333333333333333,
              "#9c179e"
             ],
             [
              0.4444444444444444,
              "#bd3786"
             ],
             [
              0.5555555555555556,
              "#d8576b"
             ],
             [
              0.6666666666666666,
              "#ed7953"
             ],
             [
              0.7777777777777778,
              "#fb9f3a"
             ],
             [
              0.8888888888888888,
              "#fdca26"
             ],
             [
              1,
              "#f0f921"
             ]
            ],
            "type": "histogram2dcontour"
           }
          ],
          "mesh3d": [
           {
            "colorbar": {
             "outlinewidth": 0,
             "ticks": ""
            },
            "type": "mesh3d"
           }
          ],
          "parcoords": [
           {
            "line": {
             "colorbar": {
              "outlinewidth": 0,
              "ticks": ""
             }
            },
            "type": "parcoords"
           }
          ],
          "pie": [
           {
            "automargin": true,
            "type": "pie"
           }
          ],
          "scatter": [
           {
            "fillpattern": {
             "fillmode": "overlay",
             "size": 10,
             "solidity": 0.2
            },
            "type": "scatter"
           }
          ],
          "scatter3d": [
           {
            "line": {
             "colorbar": {
              "outlinewidth": 0,
              "ticks": ""
             }
            },
            "marker": {
             "colorbar": {
              "outlinewidth": 0,
              "ticks": ""
             }
            },
            "type": "scatter3d"
           }
          ],
          "scattercarpet": [
           {
            "marker": {
             "colorbar": {
              "outlinewidth": 0,
              "ticks": ""
             }
            },
            "type": "scattercarpet"
           }
          ],
          "scattergeo": [
           {
            "marker": {
             "colorbar": {
              "outlinewidth": 0,
              "ticks": ""
             }
            },
            "type": "scattergeo"
           }
          ],
          "scattergl": [
           {
            "marker": {
             "colorbar": {
              "outlinewidth": 0,
              "ticks": ""
             }
            },
            "type": "scattergl"
           }
          ],
          "scattermap": [
           {
            "marker": {
             "colorbar": {
              "outlinewidth": 0,
              "ticks": ""
             }
            },
            "type": "scattermap"
           }
          ],
          "scattermapbox": [
           {
            "marker": {
             "colorbar": {
              "outlinewidth": 0,
              "ticks": ""
             }
            },
            "type": "scattermapbox"
           }
          ],
          "scatterpolar": [
           {
            "marker": {
             "colorbar": {
              "outlinewidth": 0,
              "ticks": ""
             }
            },
            "type": "scatterpolar"
           }
          ],
          "scatterpolargl": [
           {
            "marker": {
             "colorbar": {
              "outlinewidth": 0,
              "ticks": ""
             }
            },
            "type": "scatterpolargl"
           }
          ],
          "scatterternary": [
           {
            "marker": {
             "colorbar": {
              "outlinewidth": 0,
              "ticks": ""
             }
            },
            "type": "scatterternary"
           }
          ],
          "surface": [
           {
            "colorbar": {
             "outlinewidth": 0,
             "ticks": ""
            },
            "colorscale": [
             [
              0,
              "#0d0887"
             ],
             [
              0.1111111111111111,
              "#46039f"
             ],
             [
              0.2222222222222222,
              "#7201a8"
             ],
             [
              0.3333333333333333,
              "#9c179e"
             ],
             [
              0.4444444444444444,
              "#bd3786"
             ],
             [
              0.5555555555555556,
              "#d8576b"
             ],
             [
              0.6666666666666666,
              "#ed7953"
             ],
             [
              0.7777777777777778,
              "#fb9f3a"
             ],
             [
              0.8888888888888888,
              "#fdca26"
             ],
             [
              1,
              "#f0f921"
             ]
            ],
            "type": "surface"
           }
          ],
          "table": [
           {
            "cells": {
             "fill": {
              "color": "#EBF0F8"
             },
             "line": {
              "color": "white"
             }
            },
            "header": {
             "fill": {
              "color": "#C8D4E3"
             },
             "line": {
              "color": "white"
             }
            },
            "type": "table"
           }
          ]
         },
         "layout": {
          "annotationdefaults": {
           "arrowcolor": "#2a3f5f",
           "arrowhead": 0,
           "arrowwidth": 1
          },
          "autotypenumbers": "strict",
          "coloraxis": {
           "colorbar": {
            "outlinewidth": 0,
            "ticks": ""
           }
          },
          "colorscale": {
           "diverging": [
            [
             0,
             "#8e0152"
            ],
            [
             0.1,
             "#c51b7d"
            ],
            [
             0.2,
             "#de77ae"
            ],
            [
             0.3,
             "#f1b6da"
            ],
            [
             0.4,
             "#fde0ef"
            ],
            [
             0.5,
             "#f7f7f7"
            ],
            [
             0.6,
             "#e6f5d0"
            ],
            [
             0.7,
             "#b8e186"
            ],
            [
             0.8,
             "#7fbc41"
            ],
            [
             0.9,
             "#4d9221"
            ],
            [
             1,
             "#276419"
            ]
           ],
           "sequential": [
            [
             0,
             "#0d0887"
            ],
            [
             0.1111111111111111,
             "#46039f"
            ],
            [
             0.2222222222222222,
             "#7201a8"
            ],
            [
             0.3333333333333333,
             "#9c179e"
            ],
            [
             0.4444444444444444,
             "#bd3786"
            ],
            [
             0.5555555555555556,
             "#d8576b"
            ],
            [
             0.6666666666666666,
             "#ed7953"
            ],
            [
             0.7777777777777778,
             "#fb9f3a"
            ],
            [
             0.8888888888888888,
             "#fdca26"
            ],
            [
             1,
             "#f0f921"
            ]
           ],
           "sequentialminus": [
            [
             0,
             "#0d0887"
            ],
            [
             0.1111111111111111,
             "#46039f"
            ],
            [
             0.2222222222222222,
             "#7201a8"
            ],
            [
             0.3333333333333333,
             "#9c179e"
            ],
            [
             0.4444444444444444,
             "#bd3786"
            ],
            [
             0.5555555555555556,
             "#d8576b"
            ],
            [
             0.6666666666666666,
             "#ed7953"
            ],
            [
             0.7777777777777778,
             "#fb9f3a"
            ],
            [
             0.8888888888888888,
             "#fdca26"
            ],
            [
             1,
             "#f0f921"
            ]
           ]
          },
          "colorway": [
           "#636efa",
           "#EF553B",
           "#00cc96",
           "#ab63fa",
           "#FFA15A",
           "#19d3f3",
           "#FF6692",
           "#B6E880",
           "#FF97FF",
           "#FECB52"
          ],
          "font": {
           "color": "#2a3f5f"
          },
          "geo": {
           "bgcolor": "white",
           "lakecolor": "white",
           "landcolor": "#E5ECF6",
           "showlakes": true,
           "showland": true,
           "subunitcolor": "white"
          },
          "hoverlabel": {
           "align": "left"
          },
          "hovermode": "closest",
          "mapbox": {
           "style": "light"
          },
          "paper_bgcolor": "white",
          "plot_bgcolor": "#E5ECF6",
          "polar": {
           "angularaxis": {
            "gridcolor": "white",
            "linecolor": "white",
            "ticks": ""
           },
           "bgcolor": "#E5ECF6",
           "radialaxis": {
            "gridcolor": "white",
            "linecolor": "white",
            "ticks": ""
           }
          },
          "scene": {
           "xaxis": {
            "backgroundcolor": "#E5ECF6",
            "gridcolor": "white",
            "gridwidth": 2,
            "linecolor": "white",
            "showbackground": true,
            "ticks": "",
            "zerolinecolor": "white"
           },
           "yaxis": {
            "backgroundcolor": "#E5ECF6",
            "gridcolor": "white",
            "gridwidth": 2,
            "linecolor": "white",
            "showbackground": true,
            "ticks": "",
            "zerolinecolor": "white"
           },
           "zaxis": {
            "backgroundcolor": "#E5ECF6",
            "gridcolor": "white",
            "gridwidth": 2,
            "linecolor": "white",
            "showbackground": true,
            "ticks": "",
            "zerolinecolor": "white"
           }
          },
          "shapedefaults": {
           "line": {
            "color": "#2a3f5f"
           }
          },
          "ternary": {
           "aaxis": {
            "gridcolor": "white",
            "linecolor": "white",
            "ticks": ""
           },
           "baxis": {
            "gridcolor": "white",
            "linecolor": "white",
            "ticks": ""
           },
           "bgcolor": "#E5ECF6",
           "caxis": {
            "gridcolor": "white",
            "linecolor": "white",
            "ticks": ""
           }
          },
          "title": {
           "x": 0.05
          },
          "xaxis": {
           "automargin": true,
           "gridcolor": "white",
           "linecolor": "white",
           "ticks": "",
           "title": {
            "standoff": 15
           },
           "zerolinecolor": "white",
           "zerolinewidth": 2
          },
          "yaxis": {
           "automargin": true,
           "gridcolor": "white",
           "linecolor": "white",
           "ticks": "",
           "title": {
            "standoff": 15
           },
           "zerolinecolor": "white",
           "zerolinewidth": 2
          }
         }
        },
        "title": {
         "text": "PCA 3D (Varianza explicada: 31.8%)"
        },
        "width": 1000
       }
      }
     },
     "metadata": {},
     "output_type": "display_data"
    }
   ],
   "source": [
    "# ===================\n",
    "pca_df = pd.DataFrame(X_pca, columns=[f'PC{i+1}' for i in range(n_components_selected)])\n",
    "pca_df['tipoCultivo'] = y.values\n",
    "\n",
    "fig = px.scatter(pca_df, x='PC1', y='PC2', color='tipoCultivo',\n",
    "                 title=f\"PCA - PC1 vs PC2 (Varianza explicada: {sum(pca.explained_variance_ratio_[:2])*100:.1f}%)\",\n",
    "                 labels={'tipoCultivo': 'Tipo de Cultivo'})\n",
    "fig.update_layout(width=1000, height=700)\n",
    "fig.show()\n",
    "\n",
    "fig = px.scatter_3d(pca_df, x='PC1', y='PC2', z='PC3', color='tipoCultivo',\n",
    "                    title=f\"PCA 3D (Varianza explicada: {sum(pca.explained_variance_ratio_[:3])*100:.1f}%)\",\n",
    "                    labels={'tipoCultivo': 'Tipo de Cultivo'})\n",
    "fig.update_layout(width=1000, height=700)\n",
    "fig.show()"
   ]
  },
  {
   "cell_type": "code",
   "execution_count": 10,
   "id": "00d6835b",
   "metadata": {
    "title": "CORRECCIÓN 5: CLUSTERING CON VALIDACIÓN COMPLETA"
   },
   "outputs": [
    {
     "name": "stdout",
     "output_type": "stream",
     "text": [
      "\n",
      "=== CLUSTERING K-MEANS CON VALIDACIÓN COMPLETA ===\n"
     ]
    },
    {
     "data": {
      "image/png": "[encoded data removed]",
      "text/plain": [
       "<Figure size 1600x1200 with 4 Axes>"
      ]
     },
     "metadata": {},
     "output_type": "display_data"
    },
    {
     "name": "stdout",
     "output_type": "stream",
     "text": [
      "\n",
      "Número óptimo de clusters según:\n",
      "  - Silhouette Score: 13\n",
      "  - Davies-Bouldin Index: 14\n",
      "  - Calinski-Harabasz Index: 2\n"
     ]
    }
   ],
   "source": [
    "# ===================================================\n",
    "print(\"\\n=== CLUSTERING K-MEANS CON VALIDACIÓN COMPLETA ===\")\n",
    "\n",
    "# Determinar número óptimo de clusters con múltiples métricas\n",
    "max_clusters = 15\n",
    "metrics = {\n",
    "    'inertia': [],\n",
    "    'silhouette': [],\n",
    "    'davies_bouldin': [],\n",
    "    'calinski_harabasz': []\n",
    "}\n",
    "\n",
    "for k in range(2, max_clusters + 1):\n",
    "    kmeans = KMeans(n_clusters=k, random_state=42, n_init=10)\n",
    "    labels = kmeans.fit_predict(X_pca)\n",
    "    \n",
    "    metrics['inertia'].append(kmeans.inertia_)\n",
    "    metrics['silhouette'].append(silhouette_score(X_pca, labels))\n",
    "    metrics['davies_bouldin'].append(davies_bouldin_score(X_pca, labels))\n",
    "    metrics['calinski_harabasz'].append(calinski_harabasz_score(X_pca, labels))\n",
    "\n",
    "# Visualizar todas las métricas\n",
    "fig, axes = plt.subplots(2, 2, figsize=(16, 12))\n",
    "\n",
    "axes[0, 0].plot(range(2, max_clusters + 1), metrics['inertia'], 'bo-')\n",
    "axes[0, 0].set_xlabel('Número de Clusters')\n",
    "axes[0, 0].set_ylabel('Inercia (menor es mejor)')\n",
    "axes[0, 0].set_title('Método del Codo')\n",
    "axes[0, 0].grid(alpha=0.3)\n",
    "\n",
    "axes[0, 1].plot(range(2, max_clusters + 1), metrics['silhouette'], 'go-')\n",
    "axes[0, 1].set_xlabel('Número de Clusters')\n",
    "axes[0, 1].set_ylabel('Silhouette Score (mayor es mejor)')\n",
    "axes[0, 1].set_title('Coeficiente de Silhouette')\n",
    "axes[0, 1].axhline(y=0.5, color='r', linestyle='--', alpha=0.5)\n",
    "axes[0, 1].grid(alpha=0.3)\n",
    "\n",
    "axes[1, 0].plot(range(2, max_clusters + 1), metrics['davies_bouldin'], 'ro-')\n",
    "axes[1, 0].set_xlabel('Número de Clusters')\n",
    "axes[1, 0].set_ylabel('Davies-Bouldin Index (menor es mejor)')\n",
    "axes[1, 0].set_title('Índice Davies-Bouldin')\n",
    "axes[1, 0].grid(alpha=0.3)\n",
    "\n",
    "axes[1, 1].plot(range(2, max_clusters + 1), metrics['calinski_harabasz'], 'mo-')\n",
    "axes[1, 1].set_xlabel('Número de Clusters')\n",
    "axes[1, 1].set_ylabel('Calinski-Harabasz Index (mayor es mejor)')\n",
    "axes[1, 1].set_title('Índice Calinski-Harabasz')\n",
    "axes[1, 1].grid(alpha=0.3)\n",
    "\n",
    "plt.tight_layout()\n",
    "plt.show()\n",
    "\n",
    "# Recomendación basada en métricas\n",
    "best_k_silhouette = np.argmax(metrics['silhouette']) + 2\n",
    "best_k_db = np.argmin(metrics['davies_bouldin']) + 2\n",
    "best_k_ch = np.argmax(metrics['calinski_harabasz']) + 2\n",
    "\n",
    "print(f\"\\nNúmero óptimo de clusters según:\")\n",
    "print(f\"  - Silhouette Score: {best_k_silhouette}\")\n",
    "print(f\"  - Davies-Bouldin Index: {best_k_db}\")\n",
    "print(f\"  - Calinski-Harabasz Index: {best_k_ch}\")"
   ]
  },
  {
   "cell_type": "code",
   "execution_count": 11,
   "id": "fe8c4854",
   "metadata": {
    "title": "ANÁLISIS CON 3 CLUSTERS (tipos de cultivo reales)"
   },
   "outputs": [
    {
     "name": "stdout",
     "output_type": "stream",
     "text": [
      "\n",
      "=== CLUSTERING CON K=3 (comparación con tipos reales) ===\n",
      "Silhouette Score (k=3): 0.095\n",
      "Davies-Bouldin Index (k=3): 2.498\n",
      "Calinski-Harabasz Index (k=3): 33.293\n",
      "\n",
      "Tabla de Contingencia (Cultivo Real vs Cluster Asignado):\n",
      "Cluster        0   1   2\n",
      "Cultivo Real            \n",
      "Maiz          38  38  35\n",
      "Soja          34  35  39\n",
      "Trigo         33  27  32\n"
     ]
    },
    {
     "data": {
      "application/vnd.plotly.v1+json": {
       "config": {
        "plotlyServerURL": "https://plot.ly"
       },
       "data": [
        {
         "hovertemplate": "Cultivo Real=Trigo<br>PC1=%{x}<br>PC2=%{y}<br>PC3=%{z}<br>Cluster Asignado=%{marker.color}<extra></extra>",
         "legendgroup": "Trigo",
         "marker": {
          "color": {
           "bdata": "AAAAAAIAAAAAAAAAAAAAAAIAAAABAAAAAAAAAAEAAAACAAAAAQAAAAAAAAABAAAAAAAAAAEAAAAAAAAAAAAAAAIAAAACAAAAAQAAAAEAAAABAAAAAgAAAAEAAAABAAAAAgAAAAIAAAABAAAAAgAAAAAAAAAAAAAAAAAAAAAAAAABAAAAAAAAAAIAAAAAAAAAAQAAAAIAAAABAAAAAgAAAAAAAAABAAAAAQAAAAAAAAABAAAAAAAAAAIAAAACAAAAAQAAAAEAAAACAAAAAgAAAAIAAAACAAAAAgAAAAIAAAABAAAAAgAAAAIAAAACAAAAAgAAAAAAAAAAAAAAAAAAAAEAAAAAAAAAAAAAAAAAAAAAAAAAAAAAAAIAAAAAAAAAAgAAAAIAAAABAAAAAAAAAAIAAAAAAAAAAAAAAAAAAAAAAAAAAQAAAAEAAAACAAAAAgAAAAEAAAABAAAAAQAAAAAAAAAAAAAAAgAAAAIAAAA=",
           "dtype": "i4"
          },
          "coloraxis": "coloraxis",
          "symbol": "circle"
         },
         "mode": "markers",
         "name": "Trigo",
         "scene": "scene",
         "showlegend": true,
         "type": "scatter3d",
         "x": {
          "bdata": "UjMaUwTk3b+9jmkM7c33vzpWUzpYZ7w/OVl0Ysf80780FIT+kM/Qv6z3Oo2bEvA/7DMNROFtpj/OpPRgWG32Pz7maJN1Vu+/xFXiD2umob/lw8pocELzv6L55bPfldU/0ZbDxutt6L94Z4HV+Y8CQPkGJNETuue/OsDamZv4tT8ugilHJR78vwC5BuEJNfe/BbE78AXR+T+6oYgDMyXxP2sG23J+IOY/7dKOG0yH8r9eTDWQJH3UP8dCqL/mzZG/4nmn7jpmv79/RLewPmX2v7IbxBEzAu4/HFG+lsm+5b/dWp33qszOP1GarsnObtu/0EXVU03Prr9+2khudKDjv4kPq//T0dw/QaEDvYLJ3j+IIYxz8970v8IZVfY5w+K/YPWgTSstB0B+lYQXTwXov4CtM/Ei8Pw/0VqNv3Cu7r/2Kr/tE43Lv1s2W2jypwdA9qHc749CyL9/yPB++Grnv/FE2dcmavo/+BgrdiBKuD/O9ZlSlg3yv7ohgZIis7a/Dtj1+eHW178fqjieXHoFQGMDybcpWOW/Ww+xDA+p4L+3pWW3lBv4v0gRDisAbKq/RpPdJnbK5b98wL4EQJLkP8sEgu0aBOU/E5alqMHC1L//kzP6Dxr+v2RnB5vIANs/wtP5r3/R5b+Fs1TXBULjv2TJMrFktvi/x0JD/xo05z+hKNTPcpbxP3J2ZQeI17M/UvVrgLUo4b/UlhwoXJ7wv1DNbCUpKmU/VaSzLySTuj8Np9fLcwHgvw5+d9Dgguq/8kKfb7p95L9iT04fTWTFv8maizzMSOE/Ww2eWOeE9z+vrYBmU0zRv7YMD1zt6MG/zi8+DABbjL8CEx2KDfajvwvLnc/MCua/BsKLPDEt/z8WtD93kUbmP7PlLcRMc8y/uo07Tbi1wb/zqfkTXtLwP5KAfi0A+O8/DpeOqtag8D+t2PlDJ07vP17lwyQAmKU/lt+GETEn9r88oC804ejlvw==",
          "dtype": "f8"
         },
         "y": {
          "bdata": "ULv2gd6q7L9aLVepH9XiP7TKo9gj1+2/iT2uny0GCcDRZlwV4Sf0P9xx+l04tOw/pNJ/iDJf779MM01o0c/Hv2cU2y3mobE/QAMTbU3a/z9u+KpRGteyP8m3AbNL1uG/5FHCzJlb678wIIkUM/bavwXrws+duPq/9bk9oxeC9L8LR6RCJgjcv56gDqUFftK/yGA7UrA+ur/ZMxkPuYfaP+JSN/u7JeE/AAfxyTGP+T83LWDHyPPov21uTfw+q+C/BsVKvl2EzL+jCGbbbgHhPzcJqZvObdA/ncUmHmX38j/rIecorqHMP+M4kXXx5wLAR2YW8RD7A8At5ET6AX/pv2BRS31NevU/IujKZwmp7L9EAA6xNmPKv4BR/reDefq/tVqOGjhD6b/XzDj2AxrSv/1PokHh9eA/kLXWqtl54z88npAT97K5v4GZkdvECtW/Shnv1rBO8D9xw3BRks31v3CmchkwyPa/obJtLGm/AcALOtpUkYDwP0FH0Zo1KOM/FULAiX8H6j8mwC3BI+jrP5S93TifT8I/TT9KuNjx3b+Kq0rXaubkP13hfaDJQOo/Lv6s+aDF6j8x7VHOrcXgP0CdbLZCJbI/GE2jLeNO8T/YSKPv+726vyLk3PSBee0/w77ZjR3c0j8txmWv9jD6v12Pz8fZXOG/AKtTSnll6r9ogaURdZ3YP+gKJbRvZOu/OLCjHdl4tD+xuymllR8KwBu5zOI/wOk/VTb7YTpe9L/2hihCBHsEQGCVcy3LbEW/j9hmebW2mr+8G9ZfiWHxP1fuHvLBdfI/EZl+ufzc8r8NZa+rIQvXP6qfjOROTv6/dKd3QnHPA8Bzop+0gW/8v9ZaWpZygeq/UF7lO4odw79uG2cOkjH3P2Xw85HkWPg/UbdSgmTe9j9lbyWBVzCRv6fcntZBZdy/K7NgKbuQ1L8LGjXK8Djav3k/LeG9vuO/VAJuksE6tj96h4fqXnvxvw==",
          "dtype": "f8"
         },
         "z": {
          "bdata": "8XU1ojy99T98Q+73lZvpvyP1SUmMyda/tGDKOlty5L/2adpOy5unP0BidVwTJsY/FMEKOHTM5b8iDS453bPlv4IRlmVKePq/9R+kcj1897/pYoK3Q1/3v/Rin5KT9NC/sJzDnlUt8z9Y5nlq/avhv0Ysiaw2TeY/s04Cb9vk8L+4ilxg7YSYv4AXELmasPI/O6wXIFSI2z9IiwfEJV3hP1J1hRmq1fm/7ts8p4vy7j/Cpt4i03v2v1UqBcd3D/6/Elk4VocA5L+PeqsOOE3yv5KoeYWv1KC/n/RF39bV9T+HVB6HwJi/vwSGDDacFbS/LEpXW7Qt8D8kbh/JkLvWvzsgD/Qc/9q/rPsPN5rPdD9OjDuynqG+P7TW13WY3uk/ibkqZN5m0b+3H9aRM/3xv/VUEHywuaa/G0g73FXi97/t8ijG5YD0PwBuKe2YhOI/LPSz3V775r+mWTv9zGf/vx+0fAAV9cy/w8d5IUGo+z863KRoHB38vyzUahH2nQJA9sy3CTX/AsCARASTE2nWP1qSPtd9s+M/BH67Q3EL8T9rYlObaGTDP7LQu8Zanee/7Q9DkzGb9r/e4Kf5qc/mP96GNjFqwfO/f5oT0SHx0D968OW2DwnUv9am+q8XIeg/bkE06SaVm7+8G7GvDjTMPxJHW7wzb7U/HxilRN1B0D8QLUsEnYLrPwjLW7NHruU/slwK/XX84r8mWb2jxnjkv1Ye+XTHB7E/HGLRsMDR9z8bb2/misLLv51TDcrIXM2/9BQY/qV+4T8sTblOCJbhP93C83SXo8u/Nk2s+4g28T84uIjYJYADQDeEWKz4N9o/h7dzrXFawL8AFswDpC3WP0JYDCUd7+i/ocD1ygB7/D9Ng8R3LX4GwCT9xlftIfk/Y7/1xjxH2z/S8mdfQA/BPyNn7EObwfC/DVGw9FMm8r8ofx5ldpjnP8aIsj0/6Ki/aCbGTSPi6r8p6rFUITT6Pw==",
          "dtype": "f8"
         }
        },
        {
         "hovertemplate": "Cultivo Real=Soja<br>PC1=%{x}<br>PC2=%{y}<br>PC3=%{z}<br>Cluster Asignado=%{marker.color}<extra></extra>",
         "legendgroup": "Soja",
         "marker": {
          "color": {
           "bdata": "AAAAAAEAAAABAAAAAQAAAAAAAAAAAAAAAAAAAAIAAAABAAAAAAAAAAEAAAABAAAAAQAAAAEAAAABAAAAAQAAAAEAAAAAAAAAAAAAAAAAAAACAAAAAgAAAAEAAAAAAAAAAgAAAAIAAAABAAAAAQAAAAEAAAACAAAAAgAAAAAAAAACAAAAAAAAAAAAAAACAAAAAgAAAAAAAAABAAAAAgAAAAIAAAACAAAAAgAAAAEAAAABAAAAAQAAAAIAAAACAAAAAgAAAAIAAAAAAAAAAQAAAAEAAAABAAAAAAAAAAAAAAACAAAAAQAAAAAAAAABAAAAAAAAAAIAAAABAAAAAQAAAAEAAAAAAAAAAgAAAAAAAAABAAAAAgAAAAEAAAAAAAAAAAAAAAAAAAACAAAAAgAAAAAAAAABAAAAAgAAAAAAAAACAAAAAgAAAAIAAAABAAAAAgAAAAEAAAACAAAAAgAAAAIAAAABAAAAAAAAAAAAAAACAAAAAAAAAAAAAAACAAAAAAAAAAAAAAACAAAAAgAAAAIAAAABAAAAAAAAAAAAAAACAAAAAAAAAAIAAAABAAAA",
           "dtype": "i4"
          },
          "coloraxis": "coloraxis",
          "symbol": "diamond"
         },
         "mode": "markers",
         "name": "Soja",
         "scene": "scene",
         "showlegend": true,
         "type": "scatter3d",
         "x": {
          "bdata": "HQxEEWpr4r/oHi23aJe8v0eOqVbzAPo/QBRReZCE9D8nfolPHBPrP6wPKcVgk+m/ZFZ2XAXplj+EJ8KND8vcPwz47DthRwJAA/UZpqaN1j/gPbUnfs7kPyDQqJduXv4/aDfb2mA19T/3AgDIOPb0PwOrYFKL8+g//3uZzXYs5j/9R2Wn0c3GP/J9qmDw/uc/XzIhIQsD879tpB4GROqxP/VHuTgIWuI/uZ5K8OBX7b83wjzFJqkBQCdqUEFCjvG/Lj1NgP95+L8pa4IVqkzqv4EVxXu5afQ/2KyFpQ386z9W4zq79Xeyv6ajac0aX/m/11emBE4C7z/2Qs6I4UDuP60BK3NxDvG/nzSzSe8RxD92GFIiHR/gv1w7vlXZ/ta/LBE+QN/wAMBuQ4ZxdsG7PwFC+Z75FPE/87rVVD0G8b9R9PgKmT/1v/xNko/Tpuy/fcwFdRMLAsD7RIPS6ejFP479dlP9xfg/siYMA2Fg8z+K1OIB8djPPxW5GsGer+i/6WlJ8wbHjT+jbOFIqTTLvz34AQsC1MG/fwJNWGWe4D/s7YlCy0nJv2MOa/x46AJArSMFiFzK4b/Kzrr2wavkP7k+LNrBHOe/ILW6Rayj4T8cxKl8tRX0P4PJmTQvYuU/ChJ/cJ5i5T/c4Pqtn1fiv20m+KkijPI/84FdY11d5D9ASDDKhPKqP6yB6e7td6S/jdTCMytB+7/y+bE8Uj/0P495iACNEfs/xYQJHn6v+7+0Zzgt1k8AQP01yEjTcue/GCArZlqa2L8ErIXHfqDzP40dII6dvP+/VL2tHTqt5b8n03/slejIv1ia87NcgvM/ZUr4LJr/5b/VsYC3C5bbv627o9fiZfK/PHP7hvsCtT9++tDTJJjwvxYX9w+4vfU/Hm+D89Q0gD8foUqUjUz+P+iq4mjCIq6/D6xuJ2cGxr9n0U5Sbr38v3F/PnRbAf4/C5p+NM2V6j9zaX4D5SLpv+SYkG2A7tQ/oxzfEY1R5b9djigJDWzVv1vSNCoj0Py/ltNwvB829T9W+WP/w+fDPww2t8OZdsk/BGsVbJvosD+JyesdiYHyvwv4ndRz8/k/rhoAIVhc+b9piC+0gczRv5mNbDzcBQPAIVZqY8DoAcABV5b19nYFwDbLv8/rksW/",
          "dtype": "f8"
         },
         "y": {
          "bdata": "ys8NywJW+b+qvMynCjftv3d56WzRheE/ltpGUNDM4r/zMPBXot/2v37vpnD4cOa/T6Fxq0mz+L9Q9Q8PetzrP3Zd4hvV+fM/Vc0BzRhS9r8lTYRnM0bFv9/sqr8kuto/7el6wVE/+j9RES9N3vvlvyIM/32vH/A/juWpuLNT+j8oXJhym/T/PwQqsq58j/K/0KoO+IRN4r+iCfOEJ3EAwP/kYNoOUuW/skSPGH/Pgz+K2YhVyZfXP/sVMcmFkOG/CVWWx8Xh8T93LH+IRIPQv/6MJdDl7tm/LbXDq/3d9z/DE5HRpiXpv6AovBJgm+0/Gp4y8Gonpb+++jNJj0aEvz1pIGDtqdK/bY5I24weyr/G+eQAjmbOv5OP08dhhfQ/4sLuYuBHuj/8sd7K2Ev9v5GJ2+jRrAJA/m4ioR3e1T9GX9Rrza7vPyKzf5RYscC/7IUj5ZhO8j96578XkWzfvzToHKN/7rY/LtOsTtBj+T+mB+trGW3Rv3zJ5oqXy8o/DxWZ3wYC6T/cm1g/19jDv5VOkGzSidS/TDnhY7eH+z8/SITI8cbvP5/q1vijz+M/ImZ20RlFkD88FOpfEInEP5uQO3wbDvK/4Xua4OnQ/z/mJ6GASv/yv0NYPUvthME/VSkKAOpA1r9FA/7IXPnfv24er3/xI9y/tPMk/7Gh0z/lHZsrMwHlP5TklsBV7PW/cRIyOqu9yr93Lnblx3vfvwEWR99iEOS/fbEW/bqk/D/BZe4VJT/jPxRkn2vacMc/gyU4CJc1zT+ixy0J/43wv0Qe/6/F+Nq/M6iWg2yF2j/8UPn6TJDdP7xyV7FoLOw/vJ0kHRepAkAqhB62/M3vv1G0JSpI7fk/I1HhgfSq8T/agVcBJjnlPw45+ugHIeK//gs7oHO83D/ZBDwsQhLtP49RQ3G1zNE/qxnCKrI87z/EoP9vaI3sP6Ig4xogE+q/5D6g3orWdr9CnAkvGsjov8JEmYoWk+o/UC44ncfI878HWRaT71Hjv37cRMo1dN8/TCKZoVSF9L8HX6jdEj/5vwbHo4JbevU/7Sp8BU4D7z8o5gU328/jvzuDHWnZKuA/X5FJna3C3L+sBxb/U8yuvzHHBn+vQfQ/kt/DE9aEAMBLpO/QyfPnPytWgvoTUgFA",
          "dtype": "f8"
         },
         "z": {
          "bdata": "tGkeAJxH4D8bLHszIJL3v6z1WDT+TuU/9tJObWHk9b/bgKzVm0z+P7WVcp/MVd0/fm2owVPm9b+8ZBq5zJ/pP4MjFuVZcNW/oMdSvvVO7b/lXNE2EQTWv6shrJohzs+/wnJCjqIa7T926GO4W4rhv5bMlPD9Pfm/1n2064bA0D80vBy+6MD2v1AuMClPjuM/douLB0Z77b+CaX+YpzLjPwxDf/O1h8U/6Psykrpj5j+iXfAcHHvsP+lHmPKypgRAse/cJD0Fyj8J6jaFoW7Zv8ij5ZacGuu/kPFRuZl8ij9KnaGojGHqv7QeyzdZEug/foVzlAI4/z/Kk3tMauLnP4czLAF0AADA5CXj9j3oAEAS0V4C7mrvvyzfD5+zusS/N9h/aHdY/b/CHUzaFRz7v/2J3ClzW8i/yX/HWP+E3T/8ff4ajMfsP6XWB61/Xcc/kuWiSRDdxT+VdRPsJIH1v4KaCw8xDOm/QoKJFGafzz9aPsFnEpDhP0j8xmAVlOY/TGlbURHU8T8DQQjY5+L1P3SRRxn3Y/K/RolXfC3f6r9mRKDg/2/sv6yxtVxSauS/6Coxo2RHuD9u0+XRDwruPygvWwpJf7s/gclm67kfv7+H1dv55xHfPzacJfEIVui/opBkvPGY5z+T/IhfL3/TP5EvzZpRYwDAmtRAQsmw57/SFtNYk6CYv/LcYDZocuA/JEK6KTYNqz9psPE7v6D0P9qf1O5anuu/Ol4LfpCg7T85I4kDFUq4P5RFKPNsr9i/FOuEPoRl5r+oxupxqVv7P7qnapUPe/k/FWAMEIhL37+R9RyLs4b3P2YxhS3z1Mo/nLD9SCg11T8QBIC2bJD2PwiNDHIPQeC//Sb3QWUPAUCe4ii23zDvP7tm7UrR3QHAr/cryi/H+D8Jg4bjkw3wP0iM6RN25ru/tfaxS+b83b93N7p/oSv9P4IXYVJMT+y/Vywan3wh/j+1vr7HYAHwP9bWyDl62eS/JJut1hVN8z/pt0a4y4f4v1TubB+DgMW/G2h/VBrZ0z8lB0bfhy/ZP7qT8d0emvM//WG4hwJp2T8Pu2Dno3e7vzPOqn16P/q/UDTjuqBj5j9OCCEh8p3sv9JtZPXrvu8/5Sd7YRHH+r+0Ah5xdxPqv4WarqT5uLe/",
          "dtype": "f8"
         }
        },
        {
         "hovertemplate": "Cultivo Real=Maiz<br>PC1=%{x}<br>PC2=%{y}<br>PC3=%{z}<br>Cluster Asignado=%{marker.color}<extra></extra>",
         "legendgroup": "Maiz",
         "marker": {
          "color": {
           "bdata": "AQAAAAEAAAACAAAAAAAAAAIAAAACAAAAAAAAAAEAAAACAAAAAAAAAAEAAAAAAAAAAAAAAAEAAAAAAAAAAQAAAAEAAAABAAAAAAAAAAEAAAAAAAAAAgAAAAEAAAAAAAAAAAAAAAIAAAAAAAAAAQAAAAAAAAABAAAAAgAAAAIAAAACAAAAAAAAAAAAAAABAAAAAQAAAAAAAAABAAAAAgAAAAIAAAAAAAAAAgAAAAIAAAABAAAAAgAAAAEAAAABAAAAAgAAAAIAAAAAAAAAAgAAAAEAAAAAAAAAAgAAAAEAAAABAAAAAQAAAAIAAAAAAAAAAgAAAAIAAAABAAAAAAAAAAEAAAACAAAAAQAAAAAAAAABAAAAAAAAAAAAAAACAAAAAQAAAAAAAAAAAAAAAQAAAAEAAAACAAAAAQAAAAIAAAAAAAAAAgAAAAAAAAABAAAAAAAAAAEAAAACAAAAAQAAAAAAAAACAAAAAQAAAAAAAAACAAAAAgAAAAIAAAAAAAAAAAAAAAAAAAACAAAAAAAAAAAAAAABAAAAAgAAAAAAAAABAAAAAgAAAAEAAAABAAAAAAAAAAAAAAACAAAA",
           "dtype": "i4"
          },
          "coloraxis": "coloraxis",
          "symbol": "square"
         },
         "mode": "markers",
         "name": "Maiz",
         "scene": "scene",
         "showlegend": true,
         "type": "scatter3d",
         "x": {
          "bdata": "CR4HgPS6+D896RmYOVr6PxfkcWSu8fG/Vvhe3CXW8T/wTtbSDeviP7qfrlAE8vS/HVFuGr9X1D+PLBBKGrL4P8EKCYcXEgDA5vNZcHCJwr9KDjR6w8cBQJRVeEfbR+u/wxvcvcDD+z8LgTyedarzPxJdQ+w5XOk/9gldmtcz8T/Ak3GkCJ/0P7xaQuaVxsg/lnlw4HN+878gMZIOJnPSvyv87U6P29g/21Dg8T4f4r8AMB8tXQ8FQPPemr56rsU/HHCAmCXB4D+Wifa8uDz+v0S+VrE4tb0/p3XYrmDA8D9YJoj4dj/sP0HSnc6qa/c/ag4wTS2xtT9gtEjCE4j5v/uGQlTxQvC/U3tNUOQ+7r8AgxMuKXLrP7OAnmk7tNY/eKFEOe/h6z+YX2/OvkbQv7q3uyYhKqw/oc2CGwIrAcDI2UIXQ3VgP3oc/ODfx/W/MOmaC3wX8L/8aauxtBDVP5gqjeYVawBAgqxXyq3KAcDlt90wFQ/ZPz2ZAnydtNM/M2u5ZqF87b9f7iKy0TTQvzuv3hJSpuS/qHfBLuhf5b8g615SR8PrP+DJ37lCTgLAmba7Vzpzm78BBO5FehL4P7N7mqfzzpW/k1Tt+TOC7j8v/II0fZsDwAeFitglmMo/KYjZszfE/L9oa6cbhJH2vxDDFdn2yfY/JBIqPe696b/+jBIZVxayv8jjyM7QdOW/y2qIH3kq+T9DOmqzuIb4v4/XP9mPDPM/4MbWMA3e9z8KPTkyFgnpv6T//cIdkn6/r32otqZb8z8te4zvikSwvy7Y+T7XNao/TQU/EssV3T/iLm/U0A7hP/5UtRXCwNu/qpS7UZXo4T/EBJELZGzov0JkHWhxEfK/VnU/oUGSq7+E7fVfyFTtP2CT1QbqbeE/8u8LgK4887+H5tOvsWkGQMKVVxmto/y/aZrTrDGg4z+j1GXLbwP/v7LA2S3KF9W/44rX6XX35z+QYf27CHD2vxKTTmSfCdG/PmII0yUR/L/uyj+VAvkAwDymX/6QRN2/JA6iSkF9xj8sfr7qSR7XvzfI7G0WKwTA0ERl1+nm5b9K8DGccG3VP8vC8pNkovs/++l1LX5uAcCrmwyS+JP6v018Zq+/f/I/YHNWNnA54b9PSxp0LekCQMcyYnDznQFAcM8dN4yq4T9AynYfCxLQv2vjmdnt0ue/",
          "dtype": "f8"
         },
         "y": {
          "bdata": "ck4g+M5f5b/A7fPxqhL8Py73K7zsOd4/cZJz1dHw7r8igxfZuG33P0ZxAkW/KvU/LIl5BBzu/L+vC33Y1r7BP6gFxK4+GABAFB5FUR387r+4uSU1LcvovzVrq1X6498/olzob5ZkA8BFC0Q0ZTDTv6Hd6zH4tvS/n+GaNmiN7L+xVmFPRUHivxkMK0MPw+8/QXwMfYlw9L/FUs1/G+v4P+D1Ufwc1fS/jYHWLCEK1r/fSWJnJCXWPx5fI/aiNbe/Xslm/K+Hv7+40jaaB67rP6HWgzgeaeS/+KZdA6x33z/PG+zW3rjnv0cqo76w9rO/FqQpa3icyD9A9BUIZF7cv0WrX3LMBvI/pitfl2FY4b/bG0g5pIDdvwy1ol5HQ9+/vo50GXS0uz/JXiPB1JsDwBe2yYPXRcG/85rFim9Z3T+GwTSjdgDfv9Ekhc67KMi/+hymIOZM3r+6PCZa7toDQDhfdnVGgei/+6QExkU08z/UwMxefRj1P9LCFzb7vPE/rkExf2NG4z/BGz/Saa8JQOC4Ho8RMvu/Ow+O89o13L8lAo9Ykn7+P2nGxxZVJ/6/+MqCVkpH+z+cwRMGUCTgP1pabDZBj9I/Y2akSyLe478ZuwYedAKSv+y2j2Zd4uS/LVdT8xMQ8j+S4D3IjtPwP7L2IBkPzuo/97HDJl9U5L/Ja7v0I+PuP4GYin7QKP8/XYRUA13P8z+4XiNlxYz1v4gPkWDB/+6//lFBY+F75r8m6GbGJjfwv6bQ/JK3ivI/YzGEfYXA5j9405UelEPyvxiFkUH5T8u/fOfN0PvW2r9X8xhiyDEBQPGTOXZHTvU/jp4ceEFS4b+ObmrI0jbuP4y8MzZ+7/2/agiUgv183b8IuAxtDjPdv7lCPvjaYN0/uU2NJKig2j9rnG8OXxn2P+w7Sy3HdPu/RUz3LW+G8T/1dKfnefz8vwrfdOQxmbu/k8urHEx89z/wLASLJvriv5CYYGA+jARAdwkZ27E+yr8iNs41LZ2kP6sgG6TkPu+/RUI70Jck+L/RiATVVPLyvx7s351YeL0/Qenu3L/EAMDfYV50jCXov7Qjr9+BqOS/YkiNvYeA6j+WICFfpR7bv3078gP5Wew/B9yJa2S8kj8jGplI2ACcv3l9ZnAfyvG/Ss509WN/4D/22kuVZozqv2zdu9wCxgNA",
          "dtype": "f8"
         },
         "z": {
          "bdata": "gyKg/y6P878cjgns3xLNv2GnvRC7qvM/b/w/X2ZMpL8T3yshBY7/Pzgujyu1Fbg/yzzMslK3/T80BO/X5Cvjvx9Dnb2xhNO/6mhaNys14T9OA3BvKOnOv7KMu1sqac8/oBDB8fGBxL8otKMDtiXOv4DR+ZoLFPI/ry1p5vRg/r/QRuilC/2EP+hPyVkkxgTA7u7ePaUM7z+1JQbAzT74v5DcOjprvfe/XV9IqpBi078EIreiHIz4P++Iahyi6fw/qaF0idT89T/gWZ0MWA/hvz3hRVZvdPi/PKl6c9ZfAcDKMX7z5r/nP6hnY+CeZui/Xt0JPUJ16T+4oQSq4Rnov5yih7kdAOK/aNpwgLRT/L8/tJ0ta9TUP6GhWfNmTgDAQVXNvyYm9L+Sgqq//w7wPzTATLjaPQTA6Ij5RKX34r874nSn/Mf/P2ojtIxq5+c/MqtIR6iu+r/WWE8dQLvkP8r5C8m+OsS/Jx+v/6yt3T/qO6YtWpXgPyVO+wvya9w/DnctvCjT5j9fKzvWjADNv3YFy/tlwL8/+s7Df3t89j8WsHg1kk3HP2eznKjxqgLArZCBTwct3D8CPx9y/UDwv8zd9PJu4MU/OJdqUq++yb9SaOCcPd/PP9R2dVCzDPo/sw9D3cnc8z8Ly3i+6IvWv8BQz51b2O4/Qi2WYVtJ7L8fCtUJon3Yv6jmhb/K6uQ/SRrYP7sv1j9gXVnCrIXqv4x8FTYwjvy/NkNhfJtf1j+lstszq9f3vzZNxYBADMK/1nPIyQRQ6r+6nsKrf6HFP5WShJtig8W/zqd9zWhd9r+AsIJb2f/dv3dFvUThCPA/hP3nT08Z9L/ESAreNP7yv0oL50wY0ei/xoiMugmc5z8hvwjmKC8EQIiBnuSqYeo/GJoj1Ttf5T+ggbgBF8XOP2oRm++6bPc/qR8MsCVk0r+Y+UNKL/rwP6Yec5SWYae/cw8FZ7U+97/0wJ94ev3tv2jggWg+o+k/O0DwW3HNAcBzuBPPhMzPv3WLsQZFYOC/a7U3GIZzmr9evIqiMjvqvwSpvIOUDZA/Zv+3zl/i+j/+7nhOXqbtP5DgR5Iwo9g/2F8J+7MD8D+yeplIX3fqP9hWAHJ+9Mq/rJKyX6UV2j87h9bpkuzJv2l9CQa0tvI/4Mxt6+hUyT+0cyHAGcHzP85X7R3nsuw/",
          "dtype": "f8"
         }
        }
       ],
       "layout": {
        "coloraxis": {
         "colorbar": {
          "title": {
           "text": "Cluster Asignado"
          }
         },
         "colorscale": [
          [
           0,
           "#0d0887"
          ],
          [
           0.1111111111111111,
           "#46039f"
          ],
          [
           0.2222222222222222,
           "#7201a8"
          ],
          [
           0.3333333333333333,
           "#9c179e"
          ],
          [
           0.4444444444444444,
           "#bd3786"
          ],
          [
           0.5555555555555556,
           "#d8576b"
          ],
          [
           0.6666666666666666,
           "#ed7953"
          ],
          [
           0.7777777777777778,
           "#fb9f3a"
          ],
          [
           0.8888888888888888,
           "#fdca26"
          ],
          [
           1,
           "#f0f921"
          ]
         ]
        },
        "height": 700,
        "legend": {
         "title": {
          "text": "Cultivo Real"
         },
         "tracegroupgap": 0
        },
        "scene": {
         "domain": {
          "x": [
           0,
           1
          ],
          "y": [
           0,
           1
          ]
         },
         "xaxis": {
          "title": {
           "text": "PC1"
          }
         },
         "yaxis": {
          "title": {
           "text": "PC2"
          }
         },
         "zaxis": {
          "title": {
           "text": "PC3"
          }
         }
        },
        "template": {
         "data": {
          "bar": [
           {
            "error_x": {
             "color": "#2a3f5f"
            },
            "error_y": {
             "color": "#2a3f5f"
            },
            "marker": {
             "line": {
              "color": "#E5ECF6",
              "width": 0.5
             },
             "pattern": {
              "fillmode": "overlay",
              "size": 10,
              "solidity": 0.2
             }
            },
            "type": "bar"
           }
          ],
          "barpolar": [
           {
            "marker": {
             "line": {
              "color": "#E5ECF6",
              "width": 0.5
             },
             "pattern": {
              "fillmode": "overlay",
              "size": 10,
              "solidity": 0.2
             }
            },
            "type": "barpolar"
           }
          ],
          "carpet": [
           {
            "aaxis": {
             "endlinecolor": "#2a3f5f",
             "gridcolor": "white",
             "linecolor": "white",
             "minorgridcolor": "white",
             "startlinecolor": "#2a3f5f"
            },
            "baxis": {
             "endlinecolor": "#2a3f5f",
             "gridcolor": "white",
             "linecolor": "white",
             "minorgridcolor": "white",
             "startlinecolor": "#2a3f5f"
            },
            "type": "carpet"
           }
          ],
          "choropleth": [
           {
            "colorbar": {
             "outlinewidth": 0,
             "ticks": ""
            },
            "type": "choropleth"
           }
          ],
          "contour": [
           {
            "colorbar": {
             "outlinewidth": 0,
             "ticks": ""
            },
            "colorscale": [
             [
              0,
              "#0d0887"
             ],
             [
              0.1111111111111111,
              "#46039f"
             ],
             [
              0.2222222222222222,
              "#7201a8"
             ],
             [
              0.3333333333333333,
              "#9c179e"
             ],
             [
              0.4444444444444444,
              "#bd3786"
             ],
             [
              0.5555555555555556,
              "#d8576b"
             ],
             [
              0.6666666666666666,
              "#ed7953"
             ],
             [
              0.7777777777777778,
              "#fb9f3a"
             ],
             [
              0.8888888888888888,
              "#fdca26"
             ],
             [
              1,
              "#f0f921"
             ]
            ],
            "type": "contour"
           }
          ],
          "contourcarpet": [
           {
            "colorbar": {
             "outlinewidth": 0,
             "ticks": ""
            },
            "type": "contourcarpet"
           }
          ],
          "heatmap": [
           {
            "colorbar": {
             "outlinewidth": 0,
             "ticks": ""
            },
            "colorscale": [
             [
              0,
              "#0d0887"
             ],
             [
              0.1111111111111111,
              "#46039f"
             ],
             [
              0.2222222222222222,
              "#7201a8"
             ],
             [
              0.3333333333333333,
              "#9c179e"
             ],
             [
              0.4444444444444444,
              "#bd3786"
             ],
             [
              0.5555555555555556,
              "#d8576b"
             ],
             [
              0.6666666666666666,
              "#ed7953"
             ],
             [
              0.7777777777777778,
              "#fb9f3a"
             ],
             [
              0.8888888888888888,
              "#fdca26"
             ],
             [
              1,
              "#f0f921"
             ]
            ],
            "type": "heatmap"
           }
          ],
          "histogram": [
           {
            "marker": {
             "pattern": {
              "fillmode": "overlay",
              "size": 10,
              "solidity": 0.2
             }
            },
            "type": "histogram"
           }
          ],
          "histogram2d": [
           {
            "colorbar": {
             "outlinewidth": 0,
             "ticks": ""
            },
            "colorscale": [
             [
              0,
              "#0d0887"
             ],
             [
              0.1111111111111111,
              "#46039f"
             ],
             [
              0.2222222222222222,
              "#7201a8"
             ],
             [
              0.3333333333333333,
              "#9c179e"
             ],
             [
              0.4444444444444444,
              "#bd3786"
             ],
             [
              0.5555555555555556,
              "#d8576b"
             ],
             [
              0.6666666666666666,
              "#ed7953"
             ],
             [
              0.7777777777777778,
              "#fb9f3a"
             ],
             [
              0.8888888888888888,
              "#fdca26"
             ],
             [
              1,
              "#f0f921"
             ]
            ],
            "type": "histogram2d"
           }
          ],
          "histogram2dcontour": [
           {
            "colorbar": {
             "outlinewidth": 0,
             "ticks": ""
            },
            "colorscale": [
             [
              0,
              "#0d0887"
             ],
             [
              0.1111111111111111,
              "#46039f"
             ],
             [
              0.2222222222222222,
              "#7201a8"
             ],
             [
              0.3333333333333333,
              "#9c179e"
             ],
             [
              0.4444444444444444,
              "#bd3786"
             ],
             [
              0.5555555555555556,
              "#d8576b"
             ],
             [
              0.6666666666666666,
              "#ed7953"
             ],
             [
              0.7777777777777778,
              "#fb9f3a"
             ],
             [
              0.8888888888888888,
              "#fdca26"
             ],
             [
              1,
              "#f0f921"
             ]
            ],
            "type": "histogram2dcontour"
           }
          ],
          "mesh3d": [
           {
            "colorbar": {
             "outlinewidth": 0,
             "ticks": ""
            },
            "type": "mesh3d"
           }
          ],
          "parcoords": [
           {
            "line": {
             "colorbar": {
              "outlinewidth": 0,
              "ticks": ""
             }
            },
            "type": "parcoords"
           }
          ],
          "pie": [
           {
            "automargin": true,
            "type": "pie"
           }
          ],
          "scatter": [
           {
            "fillpattern": {
             "fillmode": "overlay",
             "size": 10,
             "solidity": 0.2
            },
            "type": "scatter"
           }
          ],
          "scatter3d": [
           {
            "line": {
             "colorbar": {
              "outlinewidth": 0,
              "ticks": ""
             }
            },
            "marker": {
             "colorbar": {
              "outlinewidth": 0,
              "ticks": ""
             }
            },
            "type": "scatter3d"
           }
          ],
          "scattercarpet": [
           {
            "marker": {
             "colorbar": {
              "outlinewidth": 0,
              "ticks": ""
             }
            },
            "type": "scattercarpet"
           }
          ],
          "scattergeo": [
           {
            "marker": {
             "colorbar": {
              "outlinewidth": 0,
              "ticks": ""
             }
            },
            "type": "scattergeo"
           }
          ],
          "scattergl": [
           {
            "marker": {
             "colorbar": {
              "outlinewidth": 0,
              "ticks": ""
             }
            },
            "type": "scattergl"
           }
          ],
          "scattermap": [
           {
            "marker": {
             "colorbar": {
              "outlinewidth": 0,
              "ticks": ""
             }
            },
            "type": "scattermap"
           }
          ],
          "scattermapbox": [
           {
            "marker": {
             "colorbar": {
              "outlinewidth": 0,
              "ticks": ""
             }
            },
            "type": "scattermapbox"
           }
          ],
          "scatterpolar": [
           {
            "marker": {
             "colorbar": {
              "outlinewidth": 0,
              "ticks": ""
             }
            },
            "type": "scatterpolar"
           }
          ],
          "scatterpolargl": [
           {
            "marker": {
             "colorbar": {
              "outlinewidth": 0,
              "ticks": ""
             }
            },
            "type": "scatterpolargl"
           }
          ],
          "scatterternary": [
           {
            "marker": {
             "colorbar": {
              "outlinewidth": 0,
              "ticks": ""
             }
            },
            "type": "scatterternary"
           }
          ],
          "surface": [
           {
            "colorbar": {
             "outlinewidth": 0,
             "ticks": ""
            },
            "colorscale": [
             [
              0,
              "#0d0887"
             ],
             [
              0.1111111111111111,
              "#46039f"
             ],
             [
              0.2222222222222222,
              "#7201a8"
             ],
             [
              0.3333333333333333,
              "#9c179e"
             ],
             [
              0.4444444444444444,
              "#bd3786"
             ],
             [
              0.5555555555555556,
              "#d8576b"
             ],
             [
              0.6666666666666666,
              "#ed7953"
             ],
             [
              0.7777777777777778,
              "#fb9f3a"
             ],
             [
              0.8888888888888888,
              "#fdca26"
             ],
             [
              1,
              "#f0f921"
             ]
            ],
            "type": "surface"
           }
          ],
          "table": [
           {
            "cells": {
             "fill": {
              "color": "#EBF0F8"
             },
             "line": {
              "color": "white"
             }
            },
            "header": {
             "fill": {
              "color": "#C8D4E3"
             },
             "line": {
              "color": "white"
             }
            },
            "type": "table"
           }
          ]
         },
         "layout": {
          "annotationdefaults": {
           "arrowcolor": "#2a3f5f",
           "arrowhead": 0,
           "arrowwidth": 1
          },
          "autotypenumbers": "strict",
          "coloraxis": {
           "colorbar": {
            "outlinewidth": 0,
            "ticks": ""
           }
          },
          "colorscale": {
           "diverging": [
            [
             0,
             "#8e0152"
            ],
            [
             0.1,
             "#c51b7d"
            ],
            [
             0.2,
             "#de77ae"
            ],
            [
             0.3,
             "#f1b6da"
            ],
            [
             0.4,
             "#fde0ef"
            ],
            [
             0.5,
             "#f7f7f7"
            ],
            [
             0.6,
             "#e6f5d0"
            ],
            [
             0.7,
             "#b8e186"
            ],
            [
             0.8,
             "#7fbc41"
            ],
            [
             0.9,
             "#4d9221"
            ],
            [
             1,
             "#276419"
            ]
           ],
           "sequential": [
            [
             0,
             "#0d0887"
            ],
            [
             0.1111111111111111,
             "#46039f"
            ],
            [
             0.2222222222222222,
             "#7201a8"
            ],
            [
             0.3333333333333333,
             "#9c179e"
            ],
            [
             0.4444444444444444,
             "#bd3786"
            ],
            [
             0.5555555555555556,
             "#d8576b"
            ],
            [
             0.6666666666666666,
             "#ed7953"
            ],
            [
             0.7777777777777778,
             "#fb9f3a"
            ],
            [
             0.8888888888888888,
             "#fdca26"
            ],
            [
             1,
             "#f0f921"
            ]
           ],
           "sequentialminus": [
            [
             0,
             "#0d0887"
            ],
            [
             0.1111111111111111,
             "#46039f"
            ],
            [
             0.2222222222222222,
             "#7201a8"
            ],
            [
             0.3333333333333333,
             "#9c179e"
            ],
            [
             0.4444444444444444,
             "#bd3786"
            ],
            [
             0.5555555555555556,
             "#d8576b"
            ],
            [
             0.6666666666666666,
             "#ed7953"
            ],
            [
             0.7777777777777778,
             "#fb9f3a"
            ],
            [
             0.8888888888888888,
             "#fdca26"
            ],
            [
             1,
             "#f0f921"
            ]
           ]
          },
          "colorway": [
           "#636efa",
           "#EF553B",
           "#00cc96",
           "#ab63fa",
           "#FFA15A",
           "#19d3f3",
           "#FF6692",
           "#B6E880",
           "#FF97FF",
           "#FECB52"
          ],
          "font": {
           "color": "#2a3f5f"
          },
          "geo": {
           "bgcolor": "white",
           "lakecolor": "white",
           "landcolor": "#E5ECF6",
           "showlakes": true,
           "showland": true,
           "subunitcolor": "white"
          },
          "hoverlabel": {
           "align": "left"
          },
          "hovermode": "closest",
          "mapbox": {
           "style": "light"
          },
          "paper_bgcolor": "white",
          "plot_bgcolor": "#E5ECF6",
          "polar": {
           "angularaxis": {
            "gridcolor": "white",
            "linecolor": "white",
            "ticks": ""
           },
           "bgcolor": "#E5ECF6",
           "radialaxis": {
            "gridcolor": "white",
            "linecolor": "white",
            "ticks": ""
           }
          },
          "scene": {
           "xaxis": {
            "backgroundcolor": "#E5ECF6",
            "gridcolor": "white",
            "gridwidth": 2,
            "linecolor": "white",
            "showbackground": true,
            "ticks": "",
            "zerolinecolor": "white"
           },
           "yaxis": {
            "backgroundcolor": "#E5ECF6",
            "gridcolor": "white",
            "gridwidth": 2,
            "linecolor": "white",
            "showbackground": true,
            "ticks": "",
            "zerolinecolor": "white"
           },
           "zaxis": {
            "backgroundcolor": "#E5ECF6",
            "gridcolor": "white",
            "gridwidth": 2,
            "linecolor": "white",
            "showbackground": true,
            "ticks": "",
            "zerolinecolor": "white"
           }
          },
          "shapedefaults": {
           "line": {
            "color": "#2a3f5f"
           }
          },
          "ternary": {
           "aaxis": {
            "gridcolor": "white",
            "linecolor": "white",
            "ticks": ""
           },
           "baxis": {
            "gridcolor": "white",
            "linecolor": "white",
            "ticks": ""
           },
           "bgcolor": "#E5ECF6",
           "caxis": {
            "gridcolor": "white",
            "linecolor": "white",
            "ticks": ""
           }
          },
          "title": {
           "x": 0.05
          },
          "xaxis": {
           "automargin": true,
           "gridcolor": "white",
           "linecolor": "white",
           "ticks": "",
           "title": {
            "standoff": 15
           },
           "zerolinecolor": "white",
           "zerolinewidth": 2
          },
          "yaxis": {
           "automargin": true,
           "gridcolor": "white",
           "linecolor": "white",
           "ticks": "",
           "title": {
            "standoff": 15
           },
           "zerolinecolor": "white",
           "zerolinewidth": 2
          }
         }
        },
        "title": {
         "text": "K-Means (k=3) vs Tipo de Cultivo Real"
        },
        "width": 1000
       }
      }
     },
     "metadata": {},
     "output_type": "display_data"
    }
   ],
   "source": [
    "# ====================================================\n",
    "print(\"\\n=== CLUSTERING CON K=3 (comparación con tipos reales) ===\")\n",
    "\n",
    "kmeans_3 = KMeans(n_clusters=3, random_state=42, n_init=10)\n",
    "labels_3 = kmeans_3.fit_predict(X_pca)\n",
    "\n",
    "print(f\"Silhouette Score (k=3): {silhouette_score(X_pca, labels_3):.3f}\")\n",
    "print(f\"Davies-Bouldin Index (k=3): {davies_bouldin_score(X_pca, labels_3):.3f}\")\n",
    "print(f\"Calinski-Harabasz Index (k=3): {calinski_harabasz_score(X_pca, labels_3):.3f}\")\n",
    "\n",
    "# Tabla de contingencia\n",
    "contingency = pd.crosstab(y, labels_3, rownames=['Cultivo Real'], colnames=['Cluster'])\n",
    "print(\"\\nTabla de Contingencia (Cultivo Real vs Cluster Asignado):\")\n",
    "print(contingency)\n",
    "\n",
    "# Visualización\n",
    "pca_df['Cluster_K3'] = labels_3\n",
    "fig = px.scatter_3d(pca_df, x='PC1', y='PC2', z='PC3', \n",
    "                    color='Cluster_K3',\n",
    "                    symbol='tipoCultivo',\n",
    "                    title=\"K-Means (k=3) vs Tipo de Cultivo Real\",\n",
    "                    labels={'Cluster_K3': 'Cluster Asignado', 'tipoCultivo': 'Cultivo Real'})\n",
    "fig.update_layout(width=1000, height=700)\n",
    "fig.show()"
   ]
  },
  {
   "cell_type": "code",
   "execution_count": 12,
   "id": "d975c0ef",
   "metadata": {
    "title": "CONCLUSIONES Y RECOMENDACIONES"
   },
   "outputs": [
    {
     "name": "stdout",
     "output_type": "stream",
     "text": [
      "\n",
      "======================================================================\n",
      "RESUMEN DE CORRECCIONES APLICADAS Y HALLAZGOS\n",
      "======================================================================\n",
      "\n",
      "1. ✓ VALORES FALTANTES: \n",
      "   - Imputación con moda para tipoRiego (más conservador que 'Desconocido')\n",
      "   - 'Saludable' para estadoEnfermedadesCultivo (justificado agronómicamente)\n",
      "\n",
      "2. ✓ ENCODING DE VARIABLES CATEGÓRICAS:\n",
      "   - Uso de n-1 dummies para evitar multicolinealidad perfecta\n",
      "   - Reducción de 3 variables dummy innecesarias\n",
      "\n",
      "3. ✓ ESTANDARIZACIÓN APROPIADA:\n",
      "   - Solo variables numéricas continuas estandarizadas\n",
      "   - Variables binarias mantenidas en escala 0-1\n",
      "\n",
      "4. ✓ PCA MEJORADO:\n",
      "   - Análisis detallado de varianza explicada\n",
      "   - Interpretación de loadings (variables que contribuyen a cada PC)\n",
      "   - Criterio de Kaiser aplicado correctamente\n",
      "\n",
      "5. ✓ VALIDACIÓN DE CLUSTERING:\n",
      "   - Múltiples métricas: Silhouette, Davies-Bouldin, Calinski-Harabasz\n",
      "   - Comparación con tipos de cultivo reales\n",
      "   - Tabla de contingencia para evaluar correspondencia\n",
      "\n",
      "HALLAZGOS PRINCIPALES:\n",
      "----------------------\n",
      "- Las correlaciones entre variables son bajas (máx. ~0.20)\n",
      "- PCA requiere muchas componentes para explicar varianza (problema de alta dimensionalidad)\n",
      "- El clustering no logra separar claramente los tipos de cultivo\n",
      "- Esto sugiere que las variables medidas NO son suficientemente discriminantes\n",
      "\n",
      "RECOMENDACIÓN FINAL:\n",
      "-------------------\n",
      "Este es un problema de CLASIFICACIÓN SUPERVISADA, no de clustering.\n",
      "Deberían considerar:\n",
      "- Usar algoritmos supervisados (Random Forest, SVM, XGBoost)\n",
      "- Feature engineering: crear interacciones entre variables\n",
      "- Análisis de importancia de features\n",
      "- Validación cruzada para evaluar poder predictivo\n",
      "\n"
     ]
    }
   ],
   "source": [
    "print(\"\\n\" + \"=\"*70)\n",
    "print(\"RESUMEN DE CORRECCIONES APLICADAS Y HALLAZGOS\")\n",
    "print(\"=\"*70)\n",
    "\n",
    "print(\"\"\"\n",
    "1. ✓ VALORES FALTANTES: \n",
    "   - Imputación con moda para tipoRiego (más conservador que 'Desconocido')\n",
    "   - 'Saludable' para estadoEnfermedadesCultivo (justificado agronómicamente)\n",
    "\n",
    "2. ✓ ENCODING DE VARIABLES CATEGÓRICAS:\n",
    "   - Uso de n-1 dummies para evitar multicolinealidad perfecta\n",
    "   - Reducción de 3 variables dummy innecesarias\n",
    "\n",
    "3. ✓ ESTANDARIZACIÓN APROPIADA:\n",
    "   - Solo variables numéricas continuas estandarizadas\n",
    "   - Variables binarias mantenidas en escala 0-1\n",
    "\n",
    "4. ✓ PCA MEJORADO:\n",
    "   - Análisis detallado de varianza explicada\n",
    "   - Interpretación de loadings (variables que contribuyen a cada PC)\n",
    "   - Criterio de Kaiser aplicado correctamente\n",
    "\n",
    "5. ✓ VALIDACIÓN DE CLUSTERING:\n",
    "   - Múltiples métricas: Silhouette, Davies-Bouldin, Calinski-Harabasz\n",
    "   - Comparación con tipos de cultivo reales\n",
    "   - Tabla de contingencia para evaluar correspondencia\n",
    "\n",
    "HALLAZGOS PRINCIPALES:\n",
    "----------------------\n",
    "- Las correlaciones entre variables son bajas (máx. ~0.20)\n",
    "- PCA requiere muchas componentes para explicar varianza (problema de alta dimensionalidad)\n",
    "- El clustering no logra separar claramente los tipos de cultivo\n",
    "- Esto sugiere que las variables medidas NO son suficientemente discriminantes\n",
    "\n",
    "RECOMENDACIÓN FINAL:\n",
    "-------------------\n",
    "Este es un problema de CLASIFICACIÓN SUPERVISADA, no de clustering.\n",
    "Deberían considerar:\n",
    "- Usar algoritmos supervisados (Random Forest, SVM, XGBoost)\n",
    "- Feature engineering: crear interacciones entre variables\n",
    "- Análisis de importancia de features\n",
    "- Validación cruzada para evaluar poder predictivo\n",
    "\"\"\")"
   ]
  }
 ],
 "metadata": {
  "jupytext": {
   "cell_metadata_filter": "title,-all",
   "main_language": "python",
   "notebook_metadata_filter": "-all"
  },
  "kernelspec": {
   "display_name": "tuia-mdd-tp1",
   "language": "python",
   "name": "python3"
  },
  "language_info": {
   "codemirror_mode": {
    "name": "ipython",
    "version": 3
   },
   "file_extension": ".py",
   "mimetype": "text/x-python",
   "name": "python",
   "nbconvert_exporter": "python",
   "pygments_lexer": "ipython3",
   "version": "3.12.11"
  }
 },
 "nbformat": 4,
 "nbformat_minor": 5
}
